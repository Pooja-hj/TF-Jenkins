{
 "cells": [
  {
   "cell_type": "markdown",
   "id": "3a2edefb",
   "metadata": {},
   "source": [
    "> **[Day 1 (8 Hours)]**\n",
    "\n",
    "1.  Quick Overview on Terraform"
   ]
  },
  {
   "cell_type": "code",
   "execution_count": null,
   "id": "f56bfbe5",
   "metadata": {},
   "outputs": [],
   "source": [
    "1.  Installing Terraform\n",
    "\n",
    "2.  Setting up AWS account"
   ]
  },
  {
   "cell_type": "markdown",
   "id": "08c64f41",
   "metadata": {},
   "source": [
    "2.  Deploying Infrastructure with Terraform"
   ]
  },
  {
   "cell_type": "code",
   "execution_count": null,
   "id": "deea68c6",
   "metadata": {},
   "outputs": [],
   "source": [
    "1.  Creating first EC2 instance with Terraform\n",
    "\n",
    "2.  Destroying Infrastructure with Terraform\n",
    "\n",
    "3.  Destroying Specific Resource\n",
    "\n",
    "4.  Understanding Terraform State files\n",
    "\n",
    "5.  Understanding Desired & Current States\n",
    "\n",
    "6.  Challenges with the current state on computed values\n",
    "\n",
    "7.  Terraform Commands - State Files\n",
    "\n",
    "8.  Types of Terraform Providers"
   ]
  },
  {
   "cell_type": "markdown",
   "id": "ad9a1087",
   "metadata": {},
   "source": [
    "3.  Read, Generate, Modify Configurations"
   ]
  },
  {
   "cell_type": "code",
   "execution_count": null,
   "id": "07c1dbb0",
   "metadata": {},
   "outputs": [],
   "source": [
    "1.  Understanding Attributes and Output Values in Terraform\n",
    "\n",
    "2.  Referencing Cross-Account Resource Attributes\n",
    "\n",
    "3.  Terraform Variables\n",
    "\n",
    "4.  Approaches for Variable Assignment\n",
    "\n",
    "5.  Data Types for Variables\n",
    "\n",
    "6.  Fetching Data from Maps and List in Variable\n",
    "\n",
    "7.  Count and Count Index\n",
    "\n",
    "8.  Conditional Expressions\n",
    "\n",
    "9.  Local Values"
   ]
  },
  {
   "cell_type": "markdown",
   "id": "dc79ce28",
   "metadata": {},
   "source": [
    "4.  Read, Generate, Modify Configurations"
   ]
  },
  {
   "cell_type": "code",
   "execution_count": null,
   "id": "29365840",
   "metadata": {},
   "outputs": [],
   "source": [
    "1.  Terraform Functions\n",
    "\n",
    "2.  Data Sources\n",
    "\n",
    "3.  Debugging in Terraform\n",
    "\n",
    "4.  Terraform Format\n",
    "\n",
    "5.  Validating Terraform Configuration Files\n",
    "\n",
    "6.  Load Order & Semantics\n",
    "\n",
    "7.  Dynamic Blocks\n",
    "\n",
    "8.  Tainting Resources\n",
    "\n",
    "9.  Splat Expressions\n",
    "\n",
    "10. Terraform Graph\n",
    "\n",
    "11. Saving Terraform Plan to File\n",
    "\n",
    "12. Terraform Output\n",
    "\n",
    "13. Terraform Settings\n",
    "\n",
    "14. Dealing with Large Infrastructure"
   ]
  },
  {
   "cell_type": "markdown",
   "id": "4872ea3e",
   "metadata": {},
   "source": [
    "5.  Terraform Provisioners"
   ]
  },
  {
   "cell_type": "code",
   "execution_count": null,
   "id": "d14cbf58",
   "metadata": {},
   "outputs": [],
   "source": [
    "1.  Understanding Provisioners in Terraform\n",
    "\n",
    "2.  Types of Provisioners\n",
    "\n",
    "3.  Implementing remote-exec provisioners\n",
    "\n",
    "4.  Implementing local-exec provisioners\n",
    "\n",
    "5.  Creation-Time & Destroy-Time Provisioners\n",
    "\n",
    "6.  Failure Behavior for Provisioners"
   ]
  },
  {
   "cell_type": "markdown",
   "id": "a9747728",
   "metadata": {},
   "source": [
    "> **[Day 2 (8 Hours)]**\n",
    "\n",
    "6.  Loops, Meta-Arguments, Splat Operator and Functions"
   ]
  },
  {
   "cell_type": "code",
   "execution_count": null,
   "id": "ca8ace98",
   "metadata": {},
   "outputs": [],
   "source": [
    "1.  Implement Variable Lists, Maps and Count\n",
    "\n",
    "2.  Implement Outputs with For Loops and Splat Operators\n",
    "\n",
    "3.  Implement AZ Datasource and for_each Meta-Argument\n",
    "\n",
    "4.  Implement Outputs with toset, tomap functions and create and\n",
    "    > destroy"
   ]
  },
  {
   "cell_type": "markdown",
   "id": "37b7668f",
   "metadata": {},
   "source": [
    "7.  Terraform Modules & Workspaces"
   ]
  },
  {
   "cell_type": "code",
   "execution_count": null,
   "id": "cc2c855e",
   "metadata": {},
   "outputs": [],
   "source": [
    "1.  Understanding DRY principle\n",
    "\n",
    "2.  Implementing EC2 module with Terraform\n",
    "\n",
    "3.  Variables and Terraform Modules\n",
    "\n",
    "4.  Terraform Registry\n",
    "\n",
    "5.  Terraform Workspace\n",
    "\n",
    "6.  Implementing Terraform Workspace"
   ]
  },
  {
   "cell_type": "markdown",
   "id": "303f1985",
   "metadata": {},
   "source": [
    "8.  Remote State Management"
   ]
  },
  {
   "cell_type": "code",
   "execution_count": null,
   "id": "1726a9aa",
   "metadata": {},
   "outputs": [],
   "source": [
    "1.  Integrating with GIT for team management\n",
    "\n",
    "2.  Security Challenges in Committing TFState to GIT\n",
    "\n",
    "3.  Module Sources in Terraform\n",
    "\n",
    "4.  Terraform and .gitignore\n",
    "\n",
    "5.  Remote State Management with Terraform\n",
    "\n",
    "6.  Implementing S3 Backend\n",
    "\n",
    "7.  Challenges with State File locking\n",
    "\n",
    "8.  Integrating DynamoDB with S3 for state locking\n",
    "\n",
    "9.  Terraform State Management\n",
    "\n",
    "10. Importing Existing Resources with Terraform Import\n",
    "\n",
    "11. Document - Remote State Management"
   ]
  },
  {
   "cell_type": "markdown",
   "id": "c8cba3de",
   "metadata": {},
   "source": [
    "9.  Security Primer"
   ]
  },
  {
   "cell_type": "code",
   "execution_count": null,
   "id": "87f20716",
   "metadata": {},
   "outputs": [],
   "source": [
    "1.  Handling Access & Secret Keys the Right Way in Providers\n",
    "\n",
    "2.  Terraform Provider UseCase - Resources in Multiple Regions\n",
    "\n",
    "3.  Handling Multiple AWS Profiles with Terraform Providers\n",
    "\n",
    "4.  Terraform & Assume Role with AWS STS\n",
    "\n",
    "5.  Sensitive Parameter"
   ]
  },
  {
   "cell_type": "markdown",
   "id": "1561574c",
   "metadata": {},
   "source": [
    "10. Terraform Cloud & Enterprise Capabilities (Conceptual)"
   ]
  },
  {
   "cell_type": "code",
   "execution_count": null,
   "id": "1094a0eb",
   "metadata": {},
   "outputs": [],
   "source": [
    "1.  Overview of Terraform Cloud\n",
    "\n",
    "2.  Creating Infrastructure with Terraform Cloud\n",
    "\n",
    "3.  Document - Sentinel Resource\n",
    "\n",
    "4.  Overview of Remote Backends\n",
    "\n",
    "5.  Implementing Remote Backend Operations in Terraform Cloud"
   ]
  },
  {
   "cell_type": "markdown",
   "id": "467b78ea",
   "metadata": {},
   "source": [
    "> **[Day 3 (8 Hours)]**\n",
    "\n",
    "1.  Continuous Integration"
   ]
  },
  {
   "cell_type": "code",
   "execution_count": null,
   "id": "c95d7085",
   "metadata": {},
   "outputs": [],
   "source": [
    "a.  Introduction to continuous integration\n",
    "\n",
    "b.  Introduction to Jenkins"
   ]
  },
  {
   "cell_type": "markdown",
   "id": "366d2739",
   "metadata": {},
   "source": [
    "2.  Getting Started with Jenkins"
   ]
  },
  {
   "cell_type": "code",
   "execution_count": null,
   "id": "7b4dcc5f",
   "metadata": {},
   "outputs": [],
   "source": [
    "a.  Install Jenkins on a local machine\n",
    "\n",
    "b.  Starting Up with Jenkins\n",
    "\n",
    "c.  Creating a Jenkins Job"
   ]
  },
  {
   "cell_type": "markdown",
   "id": "80e3da6a",
   "metadata": {},
   "source": [
    "3.  Plugins and its uses"
   ]
  },
  {
   "cell_type": "code",
   "execution_count": null,
   "id": "d78e893e",
   "metadata": {},
   "outputs": [],
   "source": [
    "a.  Introduction to Plugins\n",
    "\n",
    "b.  Adding Plugins to Jenkins\n",
    "\n",
    "c.  Explore some commonly used plugins\n",
    "\n",
    "d.  Configuring Jenkins to work with java, Git and Maven\n",
    "\n",
    "e.  Configure Jenkins to check for source code changes periodically\n",
    "\n",
    "f.  Working with Maven Build Jobs\n",
    "\n",
    "g.  Hands-On\n",
    "\n",
    "    i.  Adding the plugins to the Jenkins job\n",
    "\n",
    "    ii. Creating a Jenkins job to check for source code changes\n",
    "\n",
    "    iii. Creating maven build jobs"
   ]
  },
  {
   "cell_type": "markdown",
   "id": "1163572d",
   "metadata": {},
   "source": [
    "4.  Setting Up Your Build Jobs and Security"
   ]
  },
  {
   "cell_type": "code",
   "execution_count": null,
   "id": "322abcc2",
   "metadata": {},
   "outputs": [],
   "source": [
    "a.  Introduction to Build Triggers and to Build Steps\n",
    "\n",
    "b.  Pre-and Post-Build Actions: Adding properties and properties\n",
    "    > files\n",
    "\n",
    "c.  Running Your New Build Job\n",
    "\n",
    "d.  Parameterized Builds\n",
    "\n",
    "e.  Distributed builds\n",
    "\n",
    "f.  Setting Email notification\n",
    "\n",
    "g.  Enabling Security in Jenkins\n",
    "\n",
    "h.  Different Levels of Authentication\n",
    "\n",
    "i.  Types of Access and Administration of the Access\n",
    "\n",
    "j.  Hands-On Use Case:\n",
    "\n",
    "    i.  Creating Freestyle jobs\n",
    "\n",
    "    ii. Setting up security and authorization in Jenkins\n",
    "\n",
    "    iii. Sending email notifications\n",
    "\n",
    "    iv. Running the Jenkins job"
   ]
  },
  {
   "cell_type": "markdown",
   "id": "7add0ea8",
   "metadata": {},
   "source": [
    "5.  Implementing Automated Testing"
   ]
  },
  {
   "cell_type": "code",
   "execution_count": null,
   "id": "9f78a971",
   "metadata": {},
   "outputs": [],
   "source": [
    "a.  Automating Your Unit and Integration Tests\n",
    "\n",
    "b.  Configuring Test Reports in Jenkins\n",
    "\n",
    "c.  Displaying Test Results\n",
    "\n",
    "d.  Ignoring Tests"
   ]
  },
  {
   "cell_type": "markdown",
   "id": "bf5f662b",
   "metadata": {},
   "source": [
    "> **[Day 4 (8 Hours)]**\n",
    "\n",
    "6.  Jenkins Pipeline"
   ]
  },
  {
   "cell_type": "code",
   "execution_count": null,
   "id": "a29e046a",
   "metadata": {},
   "outputs": [],
   "source": [
    "a.  Groovy Basics\n",
    "\n",
    "b.  Basics\n",
    "\n",
    "    i.  Types of Pipeline scripts and Difference between them\n",
    "\n",
    "    ii. Jenkins Job DSL\n",
    "\n",
    "    iii. Automated Jenkins Pipeline\n",
    "\n",
    "    iv. Hands-On: Jenkins pipeline\n",
    "\n",
    "    v.  Steps, Stage, Stages, Agent,\n",
    "\n",
    "    vi. Stage Colors\n",
    "\n",
    "    vii. Comments, Syntax\n",
    "\n",
    "    viii. Batch Commands\n",
    "\n",
    "c.  Variables\n",
    "\n",
    "    i.  Predefined Variables\n",
    "\n",
    "    ii. User defined Variables\n",
    "\n",
    "    iii. Declaration Types\n",
    "\n",
    "    iv. Scope of the Variables\n",
    "\n",
    "d.  Parameters\n",
    "\n",
    "    i.  What are the uses of Parameters\n",
    "\n",
    "    ii. String, Text, Boolean, Choice, Password, File\n",
    "\n",
    "    iii. Params keyword\n",
    "\n",
    "e.  Options Section\n",
    "\n",
    "    i.  Retry\n",
    "\n",
    "    ii. BuildDiscarder\n",
    "\n",
    "    iii. DisableConcurrentBuilds\n",
    "\n",
    "    iv. Timeout\n",
    "\n",
    "    v.  Timestamps\n",
    "\n",
    "f.  Trigger Builds\n",
    "\n",
    "    i.  Trigger Other Jobs\n",
    "\n",
    "    ii. How to Trigger second job even first job fails\n",
    "\n",
    "    iii. How to change build result\n",
    "\n",
    "    iv. Trigger other job with parameters\n",
    "\n",
    "g.  Parallel\n",
    "\n",
    "    i.  Multiple steps sections under same stage\n",
    "\n",
    "    ii. Parallel builds\n",
    "\n",
    "    iii. Parallel Stages\n",
    "\n",
    "    iv. FailFast\n",
    "\n",
    "h.  Post\n",
    "\n",
    "    i.  POST and order of Blocks\n",
    "\n",
    "    ii. always, changed, fixed\n",
    "\n",
    "    iii. regression, aborted, failure\n",
    "\n",
    "    iv. success, unstable, cleanup\n",
    "\n",
    "    v.  Post at stage level\n",
    "\n",
    "i.  Conditional and Loop Statements\n",
    "\n",
    "    i.  if and else\n",
    "\n",
    "    ii. Build number : Even or Odd\n",
    "\n",
    "    iii. For loop"
   ]
  },
  {
   "cell_type": "markdown",
   "id": "c4a69d45",
   "metadata": {},
   "source": [
    "> **[Day 5 (8 Hours)]**\n",
    "\n",
    "7.  Distributed Jenkins Configuration"
   ]
  },
  {
   "cell_type": "code",
   "execution_count": null,
   "id": "7f6a38d2",
   "metadata": {},
   "outputs": [],
   "source": [
    "a.  Introduction to Distributed Jenkins Build\n",
    "\n",
    "b.  Configuring Master Jenkins node\n",
    "\n",
    "c.  Configuring the Jenkins slave\n",
    "\n",
    "d.  Managing nodes and distributing jobs over nodes\n",
    "\n",
    "e.  Binding Jobs on the master and slave setup\n",
    "\n",
    "f.  Labelling the nodes to run a specific job\n",
    "\n",
    "g.  Hands-On: Configuring slave node in your Jenkins, adding labels\n",
    "    > to nodes, managing the nodes"
   ]
  },
  {
   "cell_type": "markdown",
   "id": "0b5d5e8e",
   "metadata": {},
   "source": [
    "8.  Jenkins and Packer"
   ]
  },
  {
   "cell_type": "code",
   "execution_count": null,
   "id": "984cc022",
   "metadata": {},
   "outputs": [],
   "source": [
    "a.  About Packer\n",
    "\n",
    "b.  Packer Download and Installation in Windows\n",
    "\n",
    "c.  AWS IAM User and Access And Secret Key\n",
    "\n",
    "d.  Variable & Builder\n",
    "\n",
    "e.  Packer integration with Jenkins (Running Packer commands from\n",
    "    > Jenkins)"
   ]
  },
  {
   "cell_type": "markdown",
   "id": "f045d721",
   "metadata": {},
   "source": [
    "9.  Jenkins and Terraform"
   ]
  },
  {
   "cell_type": "code",
   "execution_count": null,
   "id": "6ee0ea23",
   "metadata": {},
   "outputs": [],
   "source": [
    "a.  Terraform Provider & AWS Access and Secret Key\n",
    "\n",
    "b.  Terraform integration with Jenkins"
   ]
  },
  {
   "cell_type": "markdown",
   "id": "99288f36",
   "metadata": {},
   "source": [
    "10. Jenkins Troubleshooting"
   ]
  },
  {
   "cell_type": "code",
   "execution_count": null,
   "id": "d7b7c03f",
   "metadata": {},
   "outputs": [],
   "source": [
    "a.  Monitoring Logs\n",
    "\n",
    "b.  Version of Jenkins and Plugins"
   ]
  },
  {
   "cell_type": "markdown",
   "id": "7696b9c5",
   "metadata": {},
   "source": [
    "11. Some Common issues"
   ]
  },
  {
   "cell_type": "code",
   "execution_count": null,
   "id": "ec9f1fad",
   "metadata": {},
   "outputs": [],
   "source": [
    "a.  If Jenkins hangs\n",
    "\n",
    "b.  Site is down with no 404 messages\n",
    "\n",
    "c.  No jobs are displayed"
   ]
  },
  {
   "cell_type": "markdown",
   "id": "dab0352d",
   "metadata": {},
   "source": [
    "12. Jenkins Tips"
   ]
  },
  {
   "cell_type": "code",
   "execution_count": null,
   "id": "51e4c77c",
   "metadata": {},
   "outputs": [],
   "source": [
    "a.  How to unlock Jenkins\n",
    "\n",
    "b.  Reset password"
   ]
  },
  {
   "cell_type": "markdown",
   "id": "8c865c45",
   "metadata": {},
   "source": [
    "13. Addressing Slow Performance in Jenkins\n",
    "\n",
    "> **[Day 6 (8 Hours)]**\n",
    "\n",
    "14. Understanding of Python\n",
    "\n",
    "15. Python Environment Set-up and Installation\n",
    "\n",
    "16. Python Basics"
   ]
  },
  {
   "cell_type": "code",
   "execution_count": null,
   "id": "3760bbcf",
   "metadata": {},
   "outputs": [],
   "source": [
    "a.  Data Types\n",
    "\n",
    "b.  Numbers\n",
    "\n",
    "c.  Strings\n",
    "\n",
    "d.  Lists\n",
    "\n",
    "e.  Dictionaries\n",
    "\n",
    "f.  Booleans\n",
    "\n",
    "g.  Tuples and Sets"
   ]
  },
  {
   "cell_type": "markdown",
   "id": "22e34b38",
   "metadata": {},
   "source": [
    "17. If, elif and else Statements\n",
    "\n",
    "18. Loops\n",
    "\n",
    "19. Python Sequences"
   ]
  },
  {
   "cell_type": "code",
   "execution_count": null,
   "id": "5e34fbfc",
   "metadata": {},
   "outputs": [],
   "source": [
    "a.  List\n",
    "\n",
    "b.  Tuple\n",
    "\n",
    "c.  Dictionary\n",
    "\n",
    "d.  Set"
   ]
  },
  {
   "cell_type": "markdown",
   "id": "bc214d0d",
   "metadata": {},
   "source": [
    "20. List Comprehensions in Python\n",
    "\n",
    "21. Working with Functions\n",
    "\n",
    "22. Building Lambda functions with Python\n",
    "\n",
    "23. Deploy Python Lambda functions with .zip file archives\n",
    "\n",
    "24. AWS Lambda function errors in Python\n",
    "\n",
    "25. AWS Lambda with Boto3"
   ]
  },
  {
   "cell_type": "code",
   "execution_count": null,
   "id": "daf12cbf",
   "metadata": {},
   "outputs": [],
   "source": [
    "a.  Setting Up Project\n",
    "\n",
    "b.  Creating an IAM Lambda Access Policy\n",
    "\n",
    "c.  Creating an IAM Execution Role\n",
    "\n",
    "d.  Attaching IAM Access Policy to IAM Execution Role\n",
    "\n",
    "e.  Developing a Python Lambda Function\n",
    "\n",
    "f.  Deploying Python Lambda Function\n",
    "\n",
    "g.  AWS Console Checkpoint: Python Lambda Function"
   ]
  },
  {
   "cell_type": "markdown",
   "id": "c9d902c3",
   "metadata": {},
   "source": [
    "26. AWS Lambda with Boto3: Updating Function Code and Versioning"
   ]
  },
  {
   "cell_type": "code",
   "execution_count": null,
   "id": "98881186",
   "metadata": {},
   "outputs": [],
   "source": [
    "a.  Invoking Functions\n",
    "\n",
    "b.  Passing Environment Variables to a Function\n",
    "\n",
    "c.  Modifying Function Code to Use Environment Variable and Invoking\n",
    "\n",
    "d.  Publishing a New Function Version\n",
    "\n",
    "e.  Creating Aliases for Function Versions"
   ]
  },
  {
   "cell_type": "markdown",
   "id": "08ee7c4e",
   "metadata": {},
   "source": [
    "27. AWS Lambda with Boto3: Function Operations"
   ]
  },
  {
   "cell_type": "code",
   "execution_count": null,
   "id": "09172be8",
   "metadata": {},
   "outputs": [],
   "source": [
    "a.  Getting a Function Configuration\n",
    "\n",
    "b.  Listing All Function Configurations\n",
    "\n",
    "c.  Updating Function Configurations\n",
    "\n",
    "d.  Deleting Functions"
   ]
  },
  {
   "cell_type": "markdown",
   "id": "f3c4ede7",
   "metadata": {},
   "source": [
    "28. Use Case: Building serverless ETL pipelines using Amazon Glue"
   ]
  },
  {
   "cell_type": "code",
   "execution_count": null,
   "id": "20991585",
   "metadata": {},
   "outputs": [],
   "source": [
    "a.  Create required resources\n",
    "\n",
    "    i.  Create the database\n",
    "\n",
    "    ii. Create a \"Crawler\"\n",
    "\n",
    "    iii. Perform an ETL job\n",
    "\n",
    "b.  Using Custom Classifiers\n",
    "\n",
    "c.  Clean-up"
   ]
  },
  {
   "cell_type": "markdown",
   "id": "2f2ecae6",
   "metadata": {},
   "source": [
    "> **[Day 7 (4 Hours)]**\n",
    "\n",
    "29. Use Case: Provision AWS infrastructure using Terraform"
   ]
  },
  {
   "cell_type": "code",
   "execution_count": null,
   "id": "528fd779",
   "metadata": {},
   "outputs": [],
   "source": [
    "a.  Covers Lambda, S3, Glue, API Gateway, DynamoDB"
   ]
  },
  {
   "cell_type": "markdown",
   "id": "12a8df36",
   "metadata": {},
   "source": [
    "30. Automating Terraform Projects with Jenkins"
   ]
  },
  {
   "cell_type": "code",
   "execution_count": null,
   "id": "cbdf7421",
   "metadata": {},
   "outputs": [],
   "source": [
    "a.  Install Terraform plugin\n",
    "\n",
    "b.  Configure Terraform\n",
    "\n",
    "c.  Pipeline Script\n",
    "\n",
    "d.  Scripting Remote State Setup\n",
    "\n",
    "e.  Run Jenkins pipeline"
   ]
  },
  {
   "cell_type": "markdown",
   "id": "6b0a4547",
   "metadata": {},
   "source": [
    "31. Use Case: Deploy AWS Lambda to VPC with Terraform"
   ]
  },
  {
   "cell_type": "code",
   "execution_count": null,
   "id": "cf33cf07",
   "metadata": {},
   "outputs": [],
   "source": [
    "a.  Write Lambda code\n",
    "\n",
    "b.  Lambda Terraform module\n",
    "\n",
    "c.  Deploy Lambda zero to AWS\n",
    "\n",
    "d.  Make sure Lambda works\n",
    "\n",
    "e.  Create VPC\n",
    "\n",
    "f.  Create public subnet\n",
    "\n",
    "g.  Create private subnet\n",
    "\n",
    "h.  Create security resources\n",
    "\n",
    "i.  Add Lambda to the VPC\n",
    "\n",
    "j.  Test\n",
    "\n",
    "k.  Clean-up"
   ]
  }
 ],
 "metadata": {},
 "nbformat": 4,
 "nbformat_minor": 5
}
