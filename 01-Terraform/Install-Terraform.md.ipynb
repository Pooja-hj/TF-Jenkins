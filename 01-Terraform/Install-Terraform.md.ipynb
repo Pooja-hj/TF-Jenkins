{
 "cells": [
  {
   "cell_type": "markdown",
   "id": "218a96ad",
   "metadata": {},
   "source": [
    "# Install Terraform\n",
    "\n",
    "## For Linux - Ubuntu"
   ]
  },
  {
   "cell_type": "code",
   "execution_count": null,
   "id": "c1ca94f9",
   "metadata": {},
   "outputs": [],
   "source": [
    "curl -fsSL https://apt.releases.hashicorp.com/gpg | sudo apt-key add -"
   ]
  },
  {
   "cell_type": "code",
   "execution_count": null,
   "id": "87059517",
   "metadata": {},
   "outputs": [],
   "source": [
    "sudo apt-add-repository \"deb [arch=amd64] https://apt.releases.hashicorp.com $(lsb_release -cs) main\""
   ]
  },
  {
   "cell_type": "code",
   "execution_count": null,
   "id": "9fa3c373",
   "metadata": {},
   "outputs": [],
   "source": [
    "sudo apt-get update && sudo apt-get install terraform"
   ]
  },
  {
   "cell_type": "code",
   "execution_count": null,
   "id": "0d9e2de5",
   "metadata": {},
   "outputs": [],
   "source": [
    "terraform -help"
   ]
  },
  {
   "cell_type": "code",
   "execution_count": null,
   "id": "f300de39",
   "metadata": {},
   "outputs": [],
   "source": [
    "terraform -install-autocomplete"
   ]
  },
  {
   "cell_type": "markdown",
   "id": "091a4ee5",
   "metadata": {},
   "source": [
    "## For Windows\n",
    " - https://releases.hashicorp.com/terraform/0.13.4/terraform_0.13.4_windows_amd64.zip\n",
    "\n",
    "\n",
    "## Export Terraform Secret Keys (Optional)"
   ]
  },
  {
   "cell_type": "code",
   "execution_count": null,
   "id": "455fbb58",
   "metadata": {},
   "outputs": [],
   "source": [
    "export AWS_ACCESS_KEY_ID=\"\"\n",
    "export AWS_SECRET_ACCESS_KEY=\"\"\n",
    "export AWS_DEFAULT_region = \"us-east-1\""
   ]
  }
 ],
 "metadata": {},
 "nbformat": 4,
 "nbformat_minor": 5
}
