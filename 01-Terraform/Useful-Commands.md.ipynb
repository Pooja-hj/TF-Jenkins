{
 "cells": [
  {
   "cell_type": "markdown",
   "id": "70d962f6",
   "metadata": {},
   "source": [
    "# Terraform Useful Commands\n",
    "\n",
    "Version Number Arguments | Description  \n",
    "------- | ----------------  \n",
    "\\>=2.0 | Greater than or equal to version 2.0  \n",
    "<=3.0 | Less than or equal to version 3.0  \n",
    "~>3.0 | Any version in the 3.0 range  \n",
    "\\>=3.10,<=3.18 | Any version between 3.10 and 3.18  \n",
    "\n",
    "## Alias"
   ]
  },
  {
   "cell_type": "code",
   "execution_count": null,
   "id": "9d49ff43",
   "metadata": {},
   "outputs": [],
   "source": [
    "alias tf=terraform"
   ]
  },
  {
   "cell_type": "markdown",
   "id": "62844e49",
   "metadata": {},
   "source": [
    "## Terraform Console"
   ]
  },
  {
   "cell_type": "code",
   "execution_count": null,
   "id": "74c92b28",
   "metadata": {},
   "outputs": [],
   "source": [
    "echo \"Atin Gupta\" > myfile.txt\n",
    "tf console      # access interactive command-line console to experiment with expressions\n",
    "\n",
    "> \"${file(\"myfile.txt\")}\"\n",
    "> 1+5\n",
    "> length(list(\"hello\", \"world\"))\n",
    "> lookup(map(\"id\", \"1\",\"message\", \"hello world\" ), \"id\")\n",
    "> lookup(map(\"id\", \"1\",\"message\", \"hello world\" ), \"message\")\n",
    "> lookup(map(\"id\", \"1\",\"message\", \"hello world\" ), \"author\", \"None\")\n",
    "> length(list(\"hello\", \"world\"))\n",
    "> exit\n"
   ]
  },
  {
   "cell_type": "markdown",
   "id": "58333455",
   "metadata": {},
   "source": [
    "## Terraform Validate"
   ]
  },
  {
   "cell_type": "code",
   "execution_count": null,
   "id": "1abf7dca",
   "metadata": {},
   "outputs": [],
   "source": [
    "tf validate     # validate the configuration for syntax validity"
   ]
  },
  {
   "cell_type": "markdown",
   "id": "addded00",
   "metadata": {},
   "source": [
    "## Terraform Format"
   ]
  },
  {
   "cell_type": "code",
   "execution_count": null,
   "id": "b84ace6f",
   "metadata": {},
   "outputs": [],
   "source": [
    "tf fmt      # format the configuration files to standardize style"
   ]
  },
  {
   "cell_type": "markdown",
   "id": "93a61c8b",
   "metadata": {},
   "source": [
    "## Terraform Init"
   ]
  },
  {
   "cell_type": "code",
   "execution_count": null,
   "id": "6cc4d50c",
   "metadata": {},
   "outputs": [],
   "source": [
    "tf init      # initialize terraform config files\n",
    "\n",
    "tf init -upgrade        # upgrade to the latest provider"
   ]
  },
  {
   "cell_type": "markdown",
   "id": "26a26e74",
   "metadata": {},
   "source": [
    "## Envrionment Variable"
   ]
  },
  {
   "cell_type": "code",
   "execution_count": null,
   "id": "d7ee816d",
   "metadata": {},
   "outputs": [],
   "source": [
    "setx TF_VAR_instancetype m5.large       # set a variable via environment variable (Windows)\n",
    "\n",
    "export TF_VAR_instancetype=\"t2.nano\"        # set a variable via environment variable (Linux)"
   ]
  },
  {
   "cell_type": "markdown",
   "id": "9e0fa3df",
   "metadata": {},
   "source": [
    "## Terraform Get"
   ]
  },
  {
   "cell_type": "code",
   "execution_count": null,
   "id": "87273d34",
   "metadata": {},
   "outputs": [],
   "source": [
    "tf get      # install and update modules"
   ]
  },
  {
   "cell_type": "markdown",
   "id": "9f25f519",
   "metadata": {},
   "source": [
    "## Terraform Plan"
   ]
  },
  {
   "cell_type": "code",
   "execution_count": null,
   "id": "bf7eea8f",
   "metadata": {},
   "outputs": [],
   "source": [
    "tf plan     # pre-deployment plan"
   ]
  },
  {
   "cell_type": "code",
   "execution_count": null,
   "id": "e4a4ffb9",
   "metadata": {},
   "outputs": [],
   "source": [
    "tf plan -out=newplan    # save the plan to a file"
   ]
  },
  {
   "cell_type": "code",
   "execution_count": null,
   "id": "d4cfe5a1",
   "metadata": {},
   "outputs": [],
   "source": [
    "tf plan -var=\"instancetype=t2.small\"        # explicitly define variable value"
   ]
  },
  {
   "cell_type": "code",
   "execution_count": null,
   "id": "cdb1c592",
   "metadata": {},
   "outputs": [],
   "source": [
    "tf plan -var-file=\"custom.tfvars\"       # use custom tfvars file name"
   ]
  },
  {
   "cell_type": "code",
   "execution_count": null,
   "id": "54f943d2",
   "metadata": {},
   "outputs": [],
   "source": [
    "tf plan -target aws_security_group.sg_allow_ssh     # detect changes in a specific resource"
   ]
  },
  {
   "cell_type": "code",
   "execution_count": null,
   "id": "df5d4d8d",
   "metadata": {},
   "outputs": [],
   "source": [
    "tf plan -refresh=false      # skip the refresh of all resources in the configuration"
   ]
  },
  {
   "cell_type": "code",
   "execution_count": null,
   "id": "536f8638",
   "metadata": {},
   "outputs": [],
   "source": [
    "tf plan -destroy        # plan a destroy without committing"
   ]
  },
  {
   "cell_type": "markdown",
   "id": "6db9b6bb",
   "metadata": {},
   "source": [
    "## Terraform Apply"
   ]
  },
  {
   "cell_type": "code",
   "execution_count": null,
   "id": "3517d1a3",
   "metadata": {},
   "outputs": [],
   "source": [
    "tf apply    # prompt before creating resources described in tf"
   ]
  },
  {
   "cell_type": "code",
   "execution_count": null,
   "id": "88dbc228",
   "metadata": {},
   "outputs": [],
   "source": [
    "tf apply --auto-approve     # create resources without prompt"
   ]
  },
  {
   "cell_type": "code",
   "execution_count": null,
   "id": "2c77d0a2",
   "metadata": {},
   "outputs": [],
   "source": [
    "tf apply \"newplan\"      # apply plan from plan file"
   ]
  },
  {
   "cell_type": "markdown",
   "id": "2498fe4d",
   "metadata": {},
   "source": [
    "## Terraform Destroy"
   ]
  },
  {
   "cell_type": "code",
   "execution_count": null,
   "id": "899b0642",
   "metadata": {},
   "outputs": [],
   "source": [
    "tf destroy      # destroy all"
   ]
  },
  {
   "cell_type": "code",
   "execution_count": null,
   "id": "dabcaf5c",
   "metadata": {},
   "outputs": [],
   "source": [
    "tf destroy -target aws_instace.my_instance      # only destroy specific resource"
   ]
  },
  {
   "cell_type": "markdown",
   "id": "625cd13a",
   "metadata": {},
   "source": [
    "## Terraform Taint"
   ]
  },
  {
   "cell_type": "code",
   "execution_count": null,
   "id": "a0777eba",
   "metadata": {},
   "outputs": [],
   "source": [
    "tf taint aws_instance.myec2     # mark ec2 instance to destroy and recreate on next apply"
   ]
  },
  {
   "cell_type": "markdown",
   "id": "3a6a524f",
   "metadata": {},
   "source": [
    "## Terraform State"
   ]
  },
  {
   "cell_type": "code",
   "execution_count": null,
   "id": "53135b06",
   "metadata": {},
   "outputs": [],
   "source": [
    "tf state show aws_eip.myeip    # inspect the state of an elastic ip resource"
   ]
  },
  {
   "cell_type": "code",
   "execution_count": null,
   "id": "b6f74fc8",
   "metadata": {},
   "outputs": [],
   "source": [
    "tf state list   # list the resources in the state file"
   ]
  },
  {
   "cell_type": "code",
   "execution_count": null,
   "id": "d3a22377",
   "metadata": {},
   "outputs": [],
   "source": [
    "tf state refresh      # refresh the current state"
   ]
  },
  {
   "cell_type": "markdown",
   "id": "621523ca",
   "metadata": {},
   "source": [
    "## Terraform Graph"
   ]
  },
  {
   "cell_type": "code",
   "execution_count": null,
   "id": "7ceedbc9",
   "metadata": {},
   "outputs": [],
   "source": [
    "tf graph    # visual dependency graph"
   ]
  },
  {
   "cell_type": "markdown",
   "id": "8183dadc",
   "metadata": {},
   "source": [
    "## Terraform Output"
   ]
  },
  {
   "cell_type": "code",
   "execution_count": null,
   "id": "ef76bc96",
   "metadata": {},
   "outputs": [],
   "source": [
    "tf output iam_arm       # output the value iam_arn specified within the output configuration"
   ]
  },
  {
   "cell_type": "markdown",
   "id": "1b7074a5",
   "metadata": {},
   "source": [
    "## Count and Count Index"
   ]
  },
  {
   "cell_type": "code",
   "execution_count": null,
   "id": "0a245bc8",
   "metadata": {},
   "outputs": [],
   "source": [
    "/*\n",
    "if the environment variable is equal to \"prod\"\n",
    "then create 0(none), else create 1\n",
    "*/\n",
    "count = var.environment == \"production\" ? 0 : 1\n",
    "\n",
    "/*\n",
    "if the environment variable is equal to \"prod\"\n",
    "then set allocation method to \"static\", else set to \"Dynamic\"\n",
    "*/\n",
    "allocation_method = var.environment == \"prod\" ? \"static\" : \"Dynamic\""
   ]
  },
  {
   "cell_type": "code",
   "execution_count": null,
   "id": "c5546d2b",
   "metadata": {},
   "outputs": [],
   "source": [
    "# main.tf\n",
    "\n",
    "# create 5 ec2 instances\n",
    "resource \"aws_instance\" \"instance_one\" {\n",
    "    ami = \"ami082c5a44755e0e6f\"\n",
    "    instance_type = \"t2.micro\"\n",
    "    count = 5\n",
    "}"
   ]
  },
  {
   "cell_type": "code",
   "execution_count": null,
   "id": "e5600b69",
   "metadata": {},
   "outputs": [],
   "source": [
    "# main.tf\n",
    "\n",
    "# create 5 users, appending the count index (0-4) for each\n",
    "resource \"aws_iam_user\" \"iam_user\" {\n",
    "    name = \"ec2user.${count.index}\"\n",
    "    count = 5\n",
    "}"
   ]
  },
  {
   "cell_type": "code",
   "execution_count": null,
   "id": "a5a0d528",
   "metadata": {},
   "outputs": [],
   "source": [
    "# main.tf\n",
    "\n",
    "# iterate through the index of variable names\n",
    "variable \"ec2_names\" {\n",
    "    type = list\n",
    "    default = [\"dev-ec2user\", \"stage-ec2user\", \"prod-ec2user\"]\n",
    "}\n",
    "\n",
    "resource \"aws_iam_user\" \"iam_user\" {\n",
    "    name = var.ec2_names[count.index]\n",
    "    count = 3\n",
    "}"
   ]
  },
  {
   "cell_type": "code",
   "execution_count": null,
   "id": "db135896",
   "metadata": {},
   "outputs": [],
   "source": [
    "# main.tf\n",
    "\n",
    "# create a dev ec2 instance or prod ec2 instance\n",
    "variable \"dev_env\" {}\n",
    "\n",
    "resource \"aws_instance\" \"instance_one\" {\n",
    "    ami = \"ami082c5a44755e0e6f\"\n",
    "    instance_type = \"t2.micro\"\n",
    "    count = var.dev_env == true ? 1 : 0\n",
    "}\n",
    "\n",
    "resource \"aws_instance\" \"instance_one\" {\n",
    "    ami = \"ami082c5a44755e0e6f\"\n",
    "    instance_type = \"t2.large\"\n",
    "    count = var.dev_env == false ? 1: 0\n",
    "}"
   ]
  },
  {
   "cell_type": "markdown",
   "id": "66b5d589",
   "metadata": {},
   "source": [
    "## Logging"
   ]
  },
  {
   "cell_type": "code",
   "execution_count": null,
   "id": "ec429783",
   "metadata": {},
   "outputs": [],
   "source": [
    "export TF_LOG=TRACE     # enable trace logging\n",
    "\n",
    "export TF_LOG_PATH=\"terraform.txt\"      # set log path to output to a file"
   ]
  },
  {
   "cell_type": "markdown",
   "id": "5b6dbff4",
   "metadata": {},
   "source": [
    "## Comments"
   ]
  },
  {
   "cell_type": "code",
   "execution_count": null,
   "id": "bc64d022",
   "metadata": {},
   "outputs": [],
   "source": [
    "/*\n",
    "resource \"digitalocean_droplet\" \"my_droplet\" {\n",
    "    image = \"ubuntu-18-04-x64\"\n",
    "    name = \"web-1\"\n",
    "    region = \"nyc1\"\n",
    "    size = \"s-1vcpu-1gb\"\n",
    "}\n",
    "*/"
   ]
  },
  {
   "cell_type": "markdown",
   "id": "d77cbfa7",
   "metadata": {},
   "source": [
    "## Fetch Data from Map"
   ]
  },
  {
   "cell_type": "code",
   "execution_count": null,
   "id": "b2ebe0d3",
   "metadata": {},
   "outputs": [],
   "source": [
    "# main.tf\n",
    "resource \"aws_instance\" \"myec2\" {\n",
    "    ami = \"ami082c5a44755e0e6f\"\n",
    "    instance_type = var.types[\"us-west-2\"]\n",
    "}\n",
    "\n",
    "variable \"types\" {\n",
    "    type = map\n",
    "    default = {\n",
    "        us-east-1 = \"t2.micro\"\n",
    "        us-west-2 = \"t2.nano\"\n",
    "        ap-south-1 = \"t2.small\"\n",
    "    }\n",
    "}"
   ]
  },
  {
   "cell_type": "markdown",
   "id": "ae4af682",
   "metadata": {},
   "source": [
    "## Fetch Data from List"
   ]
  },
  {
   "cell_type": "code",
   "execution_count": null,
   "id": "2735eddc",
   "metadata": {},
   "outputs": [],
   "source": [
    "# main.tf\n",
    "resource \"aws_instance\" \"myec2\" {\n",
    "    ami = \"ami082c5a44755e0e6f\"\n",
    "    instance_type = var.types[0]\n",
    "}\n",
    "\n",
    "variable \"types\" {\n",
    "    type = list\n",
    "    default = [\"m5.large\",\"m5.xlarge\",\"t2.medium\"]\n",
    "}"
   ]
  },
  {
   "cell_type": "markdown",
   "id": "ff4ca959",
   "metadata": {},
   "source": [
    "## Locals"
   ]
  },
  {
   "cell_type": "code",
   "execution_count": null,
   "id": "3e408df0",
   "metadata": {},
   "outputs": [],
   "source": [
    "# main.tf\n",
    "\n",
    "locals {\n",
    "  common_tags = {\n",
    "    Owner = \"DevOps Team\"\n",
    "    service = \"backend\"\n",
    "  }\n",
    "}\n",
    "resource \"aws_instance\" \"app-dev\" {\n",
    "   ami = \"ami-5b41123e\"\n",
    "   instance_type = \"t2.micro\"\n",
    "   tags = local.common_tags\n",
    "}\n",
    "\n",
    "resource \"aws_ebs_volume\" \"db_ebs\" {\n",
    "  availability_zone = \"us-west-2a\"\n",
    "  size              = 8\n",
    "  tags = local.common_tags\n",
    "}"
   ]
  },
  {
   "cell_type": "code",
   "execution_count": null,
   "id": "c9a2c543",
   "metadata": {},
   "outputs": [],
   "source": [
    "# main.tf\n",
    "\n",
    "variable \"name\" {}\n",
    "\n",
    "variable \"default\" {}\n",
    "\n",
    "locals {\n",
    "    name_prefix = \"${var.name != \"\" ? var.name : var.default}\"\n",
    "}\n",
    "\n",
    "resource \"aws_instance\" \"app-dev\" {\n",
    "   ami = \"ami-5b41123e\"\n",
    "   instance_type = \"t2.micro\"\n",
    "   name = local.name_prefix\n",
    "}"
   ]
  },
  {
   "cell_type": "markdown",
   "id": "0aef269a",
   "metadata": {},
   "source": [
    "## Functions"
   ]
  },
  {
   "cell_type": "code",
   "execution_count": null,
   "id": "f108ba28",
   "metadata": {},
   "outputs": [],
   "source": [
    "# main.tf\n",
    "\n",
    "variable \"region\" {\n",
    "    default = \"us-east-1\"\n",
    "}\n",
    "\n",
    "variable \"ami\" {\n",
    "    type = map\n",
    "    default = {\n",
    "        \"us-east-1\" = \"ami-5b41123e\"\n",
    "        \"us-west-2\" = \"ami-0d6621c01e8c2de2c\"\n",
    "        \"ap-south-1\" = \"ami-0470e33cd681b2476\"\n",
    "    }\n",
    "}\n",
    "\n",
    "variable \"tags\" {\n",
    "    type = list\n",
    "    default = [\"firstec2\",\"secondec2\"]\n",
    "}\n",
    "\n",
    "# use the file function to use the public key from id_rsa.pub in the module path\n",
    "/*Path information\n",
    "The syntax is path.<TYPE>. TYPE can be cwd, module, or root. cwd will interpolate the current working directory. module will interpolate the path to the current module. root will interpolate the path of the root module. In general, you probably want the path.module variable.\n",
    "*/\n",
    "resource \"aws_key_pair\" \"loginkey\" {\n",
    "  key_name   = \"atingupta2005-terraform\"\n",
    "  public_key = file(\"~/.ssh/id_rsa.pub\")\n",
    "}\n",
    "\n",
    "# use the lookup function to insert ami ID\n",
    "# use the element function to interate through tags for each instance count\n",
    "resource \"aws_instance\" \"app-dev\" {\n",
    "   ami = lookup(var.ami,var.region)\n",
    "   instance_type = \"t2.micro\"\n",
    "   key_name = aws_key_pair.loginkey.key_name\n",
    "   count = 2\n",
    "\n",
    "   tags = {\n",
    "     Name = element(var.tags,count.index)\n",
    "   }\n",
    "}"
   ]
  },
  {
   "cell_type": "markdown",
   "id": "7ab18732",
   "metadata": {},
   "source": [
    "## Data Sources"
   ]
  },
  {
   "cell_type": "code",
   "execution_count": null,
   "id": "967ba2ce",
   "metadata": {},
   "outputs": [],
   "source": [
    "# main.tf\n",
    "\n",
    "# retrieve the correct ami for the ap-southeast-1 region\n",
    "provider \"aws\" {\n",
    "  region = \"us-east-1\"\n",
    "}\n",
    "\n",
    "data \"aws_ami\" \"my_ami\" {\n",
    "  most_recent = true\n",
    "  owners = [\"amazon\"]\n",
    "\n",
    "\n",
    "  filter {\n",
    "    name   = \"name\"\n",
    "    values = [\"amzn2-ami-hvm*\"]\n",
    "  }\n",
    "}\n",
    "\n",
    "resource \"aws_instance\" \"instance-1\" {\n",
    "    ami = data.aws_ami.my_ami.id\n",
    "   instance_type = \"t2.micro\"\n",
    "}"
   ]
  },
  {
   "cell_type": "markdown",
   "id": "49f7354f",
   "metadata": {},
   "source": [
    "## Dynamic Block"
   ]
  },
  {
   "cell_type": "code",
   "execution_count": null,
   "id": "43f83a6a",
   "metadata": {},
   "outputs": [],
   "source": [
    "# main.tf\n",
    "\n",
    "# dynamically create multiple security group rules for each port\n",
    "# the iterator reassigns the element name\n",
    "variable \"sg_ports\" {\n",
    "  type        = list(number)\n",
    "  description = \"list of ingress ports\"\n",
    "  default     = [8200, 8201,8300, 9200, 9500]\n",
    "}\n",
    "\n",
    "resource \"aws_security_group\" \"dynamicsg\" {\n",
    "  name        = \"dynamic-sg\"\n",
    "  description = \"Ingress for Vault\"\n",
    "\n",
    "  dynamic \"ingress\" {\n",
    "    for_each = var.sg_ports\n",
    "    iterator = port\n",
    "    content {\n",
    "      from_port   = port.value\n",
    "      to_port     = port.value\n",
    "      protocol    = \"tcp\"\n",
    "      cidr_blocks = [\"0.0.0.0/0\"]\n",
    "    }\n",
    "  }\n",
    "\n",
    "  dynamic \"egress\" {\n",
    "    for_each = var.sg_ports\n",
    "    content {\n",
    "      from_port   = egress.value\n",
    "      to_port     = egress.value\n",
    "      protocol    = \"tcp\"\n",
    "      cidr_blocks = [\"0.0.0.0/0\"]\n",
    "    }\n",
    "  }\n",
    "}"
   ]
  },
  {
   "cell_type": "markdown",
   "id": "5739f1c1",
   "metadata": {},
   "source": [
    "## Splat Expression"
   ]
  },
  {
   "cell_type": "code",
   "execution_count": null,
   "id": "d3ef1717",
   "metadata": {},
   "outputs": [],
   "source": [
    "# main.tf\n",
    "\n",
    "# output the ARN for all 3 users\n",
    "resource \"aws_iam_user\" \"ec2_user\" {\n",
    "  name = \"iamuser.${count.index}\"\n",
    "  count = 3\n",
    "  path = \"/system/\"\n",
    "}\n",
    "\n",
    "output \"arns\" {\n",
    "  value = aws_iam_user.ec2_user[*].arn\n",
    "}"
   ]
  },
  {
   "cell_type": "markdown",
   "id": "e41d9821",
   "metadata": {},
   "source": [
    "## Provisioner"
   ]
  },
  {
   "cell_type": "code",
   "execution_count": null,
   "id": "746b4696",
   "metadata": {},
   "outputs": [],
   "source": [
    "# main.tf\n",
    "\n",
    "# create ec2 instance and use remote-exec to ssh into the instance and install nginx\n",
    "resource \"aws_instance\" \"myec2\" {\n",
    "   ami = \"ami-5b41123e\"\n",
    "   instance_type = \"t2.micro\"\n",
    "   key_name = \"atingupta2005-terraform\"\n",
    "\n",
    "   provisioner \"remote-exec\" {\n",
    "     inline = [\n",
    "       \"sudo amazon-linux-extras install -y nginx1.12\",\n",
    "       \"sudo systemctl start nginx\"\n",
    "     ]\n",
    "\n",
    "   connection {\n",
    "     type = \"ssh\"\n",
    "     user = \"ec2-user\"\n",
    "     private_key = file(\"~/.ssh/id_rsa\")\n",
    "     host = self.public_ip\n",
    "   }\n",
    "   }\n",
    "}"
   ]
  },
  {
   "cell_type": "code",
   "execution_count": null,
   "id": "12f448a2",
   "metadata": {},
   "outputs": [],
   "source": [
    "# main.tf\n",
    "\n",
    "# create ec2 instance and use local exec to copy private ip to a file\n",
    "resource \"aws_instance\" \"myec2\" {\n",
    "   ami = \"ami-5b41123e\"\n",
    "   instance_type = \"t2.micro\"\n",
    "\n",
    "   provisioner \"local-exec\" {\n",
    "    command = \"echo ${aws_instance.myec2.private_ip} >> private_ips.txt\"\n",
    "  }\n",
    "}"
   ]
  }
 ],
 "metadata": {},
 "nbformat": 4,
 "nbformat_minor": 5
}
