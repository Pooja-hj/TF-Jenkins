{
 "cells": [
  {
   "cell_type": "markdown",
   "id": "aee20bbd",
   "metadata": {},
   "source": [
    "# Terraform for_each Meta-Argument with Functions toset, tomap\n",
    "## Step-00: Pre-requisite Note\n",
    "- We are using the `default vpc` in `us-east-1` region\n",
    "\n",
    "## Step-01: Introduction\n",
    "- `for_each` Meta-Argument\n",
    "- `toset` function\n",
    "- `tomap` function\n",
    "- Data Source: aws_availability_zones\n",
    "\n",
    "## Step-02: No changes to files\n",
    "- c1-versions.tf\n",
    "- c2-variables.tf\n",
    "- c3-ec2securitygroups.tf\n",
    "- c4-ami-datasource.tf\n",
    "\n",
    "## Step-03: c5-ec2instance.tf\n",
    "- To understand more about [for_each](https://www.terraform.io/docs/language/meta-arguments/for_each.html)\n",
    "\n",
    "### Step-03-01: Availability Zones Datasource"
   ]
  },
  {
   "cell_type": "code",
   "execution_count": null,
   "id": "5bc99b27",
   "metadata": {
    "attributes": {
     "classes": [
      "t"
     ],
     "id": ""
    }
   },
   "outputs": [],
   "source": [
    "# Availability Zones Datasource\n",
    "data \"aws_availability_zones\" \"my_azones\" {\n",
    "  filter {\n",
    "    name   = \"opt-in-status\"\n",
    "    values = [\"opt-in-not-required\"]\n",
    "  }\n",
    "}"
   ]
  },
  {
   "cell_type": "markdown",
   "id": "30ad7ec8",
   "metadata": {},
   "source": [
    "### Step-03-02: EC2 Instance Resource"
   ]
  },
  {
   "cell_type": "code",
   "execution_count": null,
   "id": "1370b9cf",
   "metadata": {
    "attributes": {
     "classes": [
      "t"
     ],
     "id": ""
    }
   },
   "outputs": [],
   "source": [
    "# EC2 Instance\n",
    "resource \"aws_instance\" \"myec2vm\" {\n",
    "  ami = data.aws_ami.amzlinux2.id\n",
    "  instance_type = var.instance_type\n",
    "  user_data = file(\"${path.module}/app1-install.sh\")\n",
    "  key_name = var.instance_keypair\n",
    "  vpc_security_group_ids = [ aws_security_group.vpc-ssh.id, aws_security_group.vpc-web.id   ]\n",
    "  # Create EC2 Instance in all Availabilty Zones of a VPC  \n",
    "  for_each = toset(data.aws_availability_zones.my_azones.names)\n",
    "  availability_zone = each.key # You can also use each.value because for list items each.key == each.value\n",
    "  tags = {\n",
    "    \"Name\" = \"For-Each-Demo-${each.key}\"\n",
    "  }\n",
    "}"
   ]
  },
  {
   "cell_type": "markdown",
   "id": "e442cbf5",
   "metadata": {},
   "source": [
    "## Step-04: c6-outputs.tf"
   ]
  },
  {
   "cell_type": "code",
   "execution_count": null,
   "id": "7674609a",
   "metadata": {
    "attributes": {
     "classes": [
      "t"
     ],
     "id": ""
    }
   },
   "outputs": [],
   "source": [
    "\n",
    "# EC2 Instance Public IP with TOSET\n",
    "output \"instance_publicip\" {\n",
    "  description = \"EC2 Instance Public IP\"\n",
    "  #value = aws_instance.myec2vm.*.public_ip   # Legacy Splat\n",
    "  #value = aws_instance.myec2vm[*].public_ip  # Latest Splat\n",
    "  value = toset([\n",
    "      for myec2vm in aws_instance.myec2vm : myec2vm.public_ip\n",
    "    ])  \n",
    "}\n",
    "\n",
    "# EC2 Instance Public DNS with TOSET\n",
    "output \"instance_publicdns\" {\n",
    "  description = \"EC2 Instance Public DNS\"\n",
    "  #value = aws_instance.myec2vm[*].public_dns  # Legacy Splat\n",
    "  #value = aws_instance.myec2vm[*].public_dns  # Latest Splat\n",
    "  value = toset([\n",
    "      for myec2vm in aws_instance.myec2vm : myec2vm.public_dns\n",
    "    ])    \n",
    "}\n",
    "\n",
    "# EC2 Instance Public DNS with MAPS\n",
    "output \"instance_publicdns2\" {\n",
    "  value = tomap({\n",
    "    for s, myec2vm in aws_instance.myec2vm : s => myec2vm.public_dns\n",
    "    # S intends to be a subnet ID\n",
    "  })\n",
    "}"
   ]
  },
  {
   "cell_type": "markdown",
   "id": "79cb0767",
   "metadata": {},
   "source": [
    "## Step-05: Execute Terraform Commands"
   ]
  },
  {
   "cell_type": "code",
   "execution_count": null,
   "id": "de7746da",
   "metadata": {
    "attributes": {
     "classes": [
      "t"
     ],
     "id": ""
    }
   },
   "outputs": [],
   "source": [
    "# Terraform Initialize\n",
    "terraform init\n",
    "\n",
    "# Terraform Validate\n",
    "terraform validate\n",
    "\n",
    "# Terraform Plan\n",
    "terraform plan\n",
    "\n",
    "# Terraform Apply\n",
    "terraform apply -auto-approve\n",
    "Observations: \n",
    "1) Should fail with not creating EC2 Instance in 1 availability zone in region us-east-1\n",
    "2) We will learn about fixing this in next two sections 05-03 and 05-04\n",
    "3) Outputs not displayed as we failed during terraform apply. We will see and review outputs in section 05-04"
   ]
  },
  {
   "cell_type": "markdown",
   "id": "5a7f18fb",
   "metadata": {},
   "source": [
    "## Step-06: Expected Error Message"
   ]
  },
  {
   "cell_type": "code",
   "execution_count": null,
   "id": "400a32c3",
   "metadata": {
    "attributes": {
     "classes": [
      "t"
     ],
     "id": ""
    }
   },
   "outputs": [],
   "source": [
    "Error: Error launching source instance: Unsupported: Your requested instance type (t3.micro) is not supported in your requested Availability Zone (us-east-1e). Please retry your request by not specifying an Availability Zone or choosing us-east-1a, us-east-1b, us-east-1c, us-east-1d, us-east-1f.\n",
    "\tstatus code: 400, request id: 52e0e358-17a0-434b-80de-5bc5f956eedb\n",
    "\n",
    "  on c5-ec2instance.tf line 35, in resource \"aws_instance\" \"myec2vm\":\n",
    "  35: resource \"aws_instance\" \"myec2vm\" {\n"
   ]
  },
  {
   "cell_type": "markdown",
   "id": "581bdd75",
   "metadata": {},
   "source": [
    "## Step-07: Clean-Up"
   ]
  },
  {
   "cell_type": "code",
   "execution_count": null,
   "id": "45a1b9cc",
   "metadata": {
    "attributes": {
     "classes": [
      "t"
     ],
     "id": ""
    }
   },
   "outputs": [],
   "source": [
    "# Terraform Destroy\n",
    "terraform destroy -auto-approve\n",
    "\n",
    "# Clean-Up\n",
    "rm -rf .terraform*\n",
    "rm -rf terraform.tfstate*"
   ]
  },
  {
   "cell_type": "markdown",
   "id": "3eee208d",
   "metadata": {},
   "source": [
    "## References\n",
    "- [Terraform Functions](https://www.terraform.io/docs/language/functions/tolist.html)\n",
    "- [Data Source: aws_availability_zones](https://registry.terraform.io/providers/hashicorp/aws/latest/docs/data-sources/availability_zones)\n",
    "- [for_each Meta-Argument](https://www.terraform.io/docs/language/meta-arguments/for_each.html)\n",
    "- [tomap Function](https://www.terraform.io/docs/language/functions/tomap.html)\n",
    "- [toset Function](https://www.terraform.io/docs/language/functions/toset.html)"
   ]
  }
 ],
 "metadata": {},
 "nbformat": 4,
 "nbformat_minor": 5
}
