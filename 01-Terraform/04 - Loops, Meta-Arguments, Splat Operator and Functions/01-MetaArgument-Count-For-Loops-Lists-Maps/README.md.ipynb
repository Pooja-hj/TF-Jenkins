{
 "cells": [
  {
   "cell_type": "markdown",
   "id": "7c28c1c9",
   "metadata": {},
   "source": [
    "# Terraform For Loops, Lists, Maps and Count Meta-Argument\n",
    "\n",
    "## Step-01: Introduction\n",
    "- Terraform Meta-Argument: `Count`\n",
    "- **Terraform Lists & Maps**\n",
    "  - List(string)\n",
    "  - map(string)\n",
    "- **Terraform for loops**\n",
    "  - for loop with List\n",
    "  - for loop with Map\n",
    "  - for loop with Map Advanced\n",
    "- **Splat Operators**\n",
    "  - Legacy Splat Operator `.*.`\n",
    "  - Generalized Splat Operator (latest)\n",
    "  - Understand about Terraform Generic Splat Expression `[*]` when dealing with `count` Meta-Argument and multiple output values\n",
    "\n",
    "## Step-02: c1-versions.tf\n",
    "- No changes\n",
    "\n",
    "## Step-03: c2-variables.tf - Lists and Maps"
   ]
  },
  {
   "cell_type": "code",
   "execution_count": null,
   "id": "e6803627",
   "metadata": {
    "attributes": {
     "classes": [
      "t"
     ],
     "id": ""
    }
   },
   "outputs": [],
   "source": [
    "# AWS EC2 Instance Type - List\n",
    "variable \"instance_type_list\" {\n",
    "  description = \"EC2 Instnace Type\"\n",
    "  type = list(string)\n",
    "  default = [\"t3.micro\", \"t3.small\"]\n",
    "}\n",
    "\n",
    "\n",
    "# AWS EC2 Instance Type - Map\n",
    "variable \"instance_type_map\" {\n",
    "  description = \"EC2 Instnace Type\"\n",
    "  type = map(string)\n",
    "  default = {\n",
    "    \"dev\" = \"t3.micro\"\n",
    "    \"qa\"  = \"t3.small\"\n",
    "    \"prod\" = \"t3.large\"\n",
    "  }\n",
    "}"
   ]
  },
  {
   "cell_type": "markdown",
   "id": "ecade115",
   "metadata": {},
   "source": [
    "## Step-04: c3-ec2securitygroups.tf and c4-ami-datasource.tf\n",
    "- No changes to both files\n",
    "\n",
    "## Step-05: c5-ec2instance.tf"
   ]
  },
  {
   "cell_type": "code",
   "execution_count": null,
   "id": "1436760d",
   "metadata": {
    "attributes": {
     "classes": [
      "t"
     ],
     "id": ""
    }
   },
   "outputs": [],
   "source": [
    "# How to reference List values ?\n",
    "instance_type = var.instance_type_list[1]\n",
    "\n",
    "# How to reference Map values ?\n",
    "instance_type = var.instance_type_map[\"prod\"]\n",
    "\n",
    "# Meta-Argument Count\n",
    "count = 2\n",
    "\n",
    "# count.index\n",
    "  tags = {\n",
    "    \"Name\" = \"Count-Demo-${count.index}\"\n",
    "  }"
   ]
  },
  {
   "cell_type": "markdown",
   "id": "42d2e962",
   "metadata": {},
   "source": [
    "## Step-06: c6-outputs.tf\n",
    "- for loop with List\n",
    "- for loop with Map\n",
    "- for loop with Map Advanced"
   ]
  },
  {
   "cell_type": "code",
   "execution_count": null,
   "id": "d59db5dc",
   "metadata": {
    "attributes": {
     "classes": [
      "t"
     ],
     "id": ""
    }
   },
   "outputs": [],
   "source": [
    "\n",
    "# Output - For Loop with List\n",
    "output \"for_output_list\" {\n",
    "  description = \"For Loop with List\"\n",
    "  value = [for instance in aws_instance.myec2vm: instance.public_dns ]\n",
    "}\n",
    "\n",
    "# Output - For Loop with Map\n",
    "output \"for_output_map1\" {\n",
    "  description = \"For Loop with Map\"\n",
    "  value = {for instance in aws_instance.myec2vm: instance.id => instance.public_dns}\n",
    "}\n",
    "\n",
    "# Output - For Loop with Map Advanced\n",
    "output \"for_output_map2\" {\n",
    "  description = \"For Loop with Map - Advanced\"\n",
    "  value = {for c, instance in aws_instance.myec2vm: c => instance.public_dns}\n",
    "}\n",
    "\n",
    "# Output Legacy Splat Operator (latest) - Returns the List\n",
    "output \"legacy_splat_instance_publicdns\" {\n",
    "  description = \"Legacy Splat Expression\"\n",
    "  value = aws_instance.myec2vm.*.public_dns\n",
    "}  \n",
    "\n",
    "# Output Latest Generalized Splat Operator - Returns the List\n",
    "output \"latest_splat_instance_publicdns\" {\n",
    "  description = \"Generalized Splat Expression\"\n",
    "  value = aws_instance.myec2vm[*].public_dns\n",
    "}"
   ]
  },
  {
   "cell_type": "markdown",
   "id": "4cfe7e4d",
   "metadata": {},
   "source": [
    "## Step-07: Execute Terraform Commands"
   ]
  },
  {
   "cell_type": "code",
   "execution_count": null,
   "id": "9fd20856",
   "metadata": {
    "attributes": {
     "classes": [
      "t"
     ],
     "id": ""
    }
   },
   "outputs": [],
   "source": [
    "# Terraform Initialize\n",
    "terraform init\n",
    "\n",
    "# Terraform Validate\n",
    "terraform validate\n",
    "\n",
    "# Terraform Plan\n",
    "terraform plan\n",
    "Observations:\n",
    "1) play with Lists and Maps for instance_type\n",
    "\n",
    "# Terraform Apply\n",
    "terraform apply -auto-approve\n",
    "Observations:\n",
    "1) Two EC2 Instances (Count = 2) of a Resource myec2vm will be created\n",
    "2) Count.index will start from 0 and end with 1 for VM Names\n",
    "3) Review outputs in detail (for loop with list, maps, maps advanced, splat legacy and splat latest)"
   ]
  },
  {
   "cell_type": "markdown",
   "id": "55e9fe35",
   "metadata": {},
   "source": [
    "## Step-08: Terraform Comments\n",
    "- Single Line Comments - `#` and `//`\n",
    "- Multi-line Commnets - `Start with /*` and `end with */`\n",
    "- We are going to comment the legacy splat operator, which might be decommissioned in future versions"
   ]
  },
  {
   "cell_type": "code",
   "execution_count": null,
   "id": "e63ce783",
   "metadata": {
    "attributes": {
     "classes": [
      "t"
     ],
     "id": ""
    }
   },
   "outputs": [],
   "source": [
    "# Output Legacy Splat Operator (latest) - Returns the List\n",
    "/* output \"legacy_splat_instance_publicdns\" {\n",
    "  description = \"Legacy Splat Expression\"\n",
    "  value = aws_instance.myec2vm.*.public_dns\n",
    "}  */"
   ]
  },
  {
   "cell_type": "markdown",
   "id": "89466fe1",
   "metadata": {},
   "source": [
    "## Step-09: Clean-Up"
   ]
  },
  {
   "cell_type": "code",
   "execution_count": null,
   "id": "672531e7",
   "metadata": {
    "attributes": {
     "classes": [
      "t"
     ],
     "id": ""
    }
   },
   "outputs": [],
   "source": [
    "# Terraform Destroy\n",
    "terraform destroy -auto-approve\n",
    "\n",
    "# Files\n",
    "rm -rf .terraform*\n",
    "rm -rf terraform.tfstate*"
   ]
  }
 ],
 "metadata": {},
 "nbformat": 4,
 "nbformat_minor": 5
}
