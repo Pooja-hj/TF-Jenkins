{
 "cells": [
  {
   "cell_type": "markdown",
   "id": "c88017db",
   "metadata": {},
   "source": [
    "#### Documentation Referred:\n",
    "- https://registry.terraform.io\n",
    "\n",
    "#### Azure Provider"
   ]
  },
  {
   "cell_type": "code",
   "execution_count": null,
   "id": "743ea311",
   "metadata": {},
   "outputs": [],
   "source": [
    "provider \"azurerm\" {}"
   ]
  },
  {
   "cell_type": "code",
   "execution_count": null,
   "id": "2e178bc8",
   "metadata": {},
   "outputs": [],
   "source": [
    "terraform init"
   ]
  },
  {
   "cell_type": "markdown",
   "id": "a8912902",
   "metadata": {},
   "source": [
    "#### Digital Ocean Provider:\n",
    "\n",
    "- https://registry.terraform.io/providers/digitalocean/digitalocean/latest/docs"
   ]
  },
  {
   "cell_type": "code",
   "execution_count": null,
   "id": "ace3879d",
   "metadata": {},
   "outputs": [],
   "source": [
    "terraform {\n",
    "  required_providers {\n",
    "    digitalocean = {\n",
    "      source = \"digitalocean/digitalocean\"\n",
    "      version = \"2.5.0\"\n",
    "    }\n",
    "  }\n",
    "}\n",
    "\n",
    "provider \"digitalocean\" {}"
   ]
  },
  {
   "cell_type": "code",
   "execution_count": null,
   "id": "081ce68b",
   "metadata": {},
   "outputs": [],
   "source": [
    "terraform init"
   ]
  }
 ],
 "metadata": {},
 "nbformat": 4,
 "nbformat_minor": 5
}
