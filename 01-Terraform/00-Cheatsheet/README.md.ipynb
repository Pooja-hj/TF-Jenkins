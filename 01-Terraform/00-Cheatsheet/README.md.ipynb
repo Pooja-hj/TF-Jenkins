{
 "cells": [
  {
   "cell_type": "markdown",
   "id": "d298df05",
   "metadata": {},
   "source": [
    "# terraform-cheatsheet\n",
    "\n",
    "[command docs](https://www.terraform.io/docs/commands/)\n",
    "[functions](https://www.terraform.io/docs/configuration/functions/)\n",
    "[provisioners](https://www.terraform.io/docs/provisioners/index.html)\n",
    "[modules](https://registry.terraform.io/browse/modules)\n",
    "\n",
    "Version Number Arguments | Description  \n",
    "------- | ----------------  \n",
    "\\>=2.0 | Greater than or equal to version 2.0  \n",
    "<=3.0 | Less than or equal to version 3.0  \n",
    "~>3.0 | Any version in the 3.0 range  \n",
    "\\>=3.10,<=3.18 | Any version between 3.10 and 3.18  \n",
    "\n",
    "## Alias"
   ]
  },
  {
   "cell_type": "code",
   "execution_count": null,
   "id": "8e9a28c7",
   "metadata": {},
   "outputs": [],
   "source": [
    "alias tf=terraform"
   ]
  },
  {
   "cell_type": "markdown",
   "id": "0474fdc4",
   "metadata": {},
   "source": [
    "## Terraform Console"
   ]
  },
  {
   "cell_type": "code",
   "execution_count": null,
   "id": "690da99f",
   "metadata": {},
   "outputs": [],
   "source": [
    "tf console      # access interactive command-line console to experiment with expressions"
   ]
  },
  {
   "cell_type": "markdown",
   "id": "8bfc1bfe",
   "metadata": {},
   "source": [
    "## Terraform Workspace\n",
    "* use different state files for each workspace"
   ]
  },
  {
   "cell_type": "code",
   "execution_count": null,
   "id": "d75666da",
   "metadata": {},
   "outputs": [],
   "source": [
    "tf workspace show       # show current workspace"
   ]
  },
  {
   "cell_type": "code",
   "execution_count": null,
   "id": "0dd102aa",
   "metadata": {},
   "outputs": [],
   "source": [
    "tf workspace list       # list all available workspaces"
   ]
  },
  {
   "cell_type": "code",
   "execution_count": null,
   "id": "d15194c4",
   "metadata": {},
   "outputs": [],
   "source": [
    "tf workspace new dev        # create and switch to new workspace named dev"
   ]
  },
  {
   "cell_type": "code",
   "execution_count": null,
   "id": "95827919",
   "metadata": {},
   "outputs": [],
   "source": [
    "tf workspace new prod       # create a new workspace named prod"
   ]
  },
  {
   "cell_type": "code",
   "execution_count": null,
   "id": "6b5c5355",
   "metadata": {},
   "outputs": [],
   "source": [
    "tf workspace select dev     # switch to the dev workspace"
   ]
  },
  {
   "cell_type": "markdown",
   "id": "285e51d4",
   "metadata": {},
   "source": [
    "### Workspace - Example"
   ]
  },
  {
   "cell_type": "code",
   "execution_count": null,
   "id": "05994227",
   "metadata": {},
   "outputs": [],
   "source": [
    "resource \"aws_instance\" \"myec2\" {\n",
    "   ami = \"ami-5b41123e\"\n",
    "   instance_type = lookup(var.instance_type,terraform.workspace)\n",
    "}\n",
    "\n",
    "variable \"instance_type\" {\n",
    "  type = \"map\"\n",
    "\n",
    "  default = {\n",
    "    default = \"t2.nano\"\n",
    "    dev     = \"t2.micro\"\n",
    "    prd     = \"t2.large\"\n",
    "  }\n",
    "}"
   ]
  },
  {
   "cell_type": "markdown",
   "id": "8e740ae2",
   "metadata": {},
   "source": [
    "## Terraform Validate"
   ]
  },
  {
   "cell_type": "code",
   "execution_count": null,
   "id": "01469cc4",
   "metadata": {},
   "outputs": [],
   "source": [
    "tf validate     # validate the configuration for syntax validity"
   ]
  },
  {
   "cell_type": "markdown",
   "id": "816a1644",
   "metadata": {},
   "source": [
    "## Terraform Format"
   ]
  },
  {
   "cell_type": "code",
   "execution_count": null,
   "id": "a4a7e68f",
   "metadata": {},
   "outputs": [],
   "source": [
    "tf fmt      # format the configuration files to standardize style"
   ]
  },
  {
   "cell_type": "markdown",
   "id": "ef99b3ad",
   "metadata": {},
   "source": [
    "## Terraform Upgrade"
   ]
  },
  {
   "cell_type": "code",
   "execution_count": null,
   "id": "fe0de4e1",
   "metadata": {},
   "outputs": [],
   "source": [
    "tf 0.13upgrade .        # upgrade to major release v0.13"
   ]
  },
  {
   "cell_type": "markdown",
   "id": "a127a658",
   "metadata": {},
   "source": [
    "## Terraform Init"
   ]
  },
  {
   "cell_type": "code",
   "execution_count": null,
   "id": "401812d9",
   "metadata": {},
   "outputs": [],
   "source": [
    "tf init      # initialize terraform config files\n",
    "\n",
    "tf init -upgrade        # upgrade to the latest provider"
   ]
  },
  {
   "cell_type": "markdown",
   "id": "0462e7e0",
   "metadata": {},
   "source": [
    "## Envrionment Variable"
   ]
  },
  {
   "cell_type": "code",
   "execution_count": null,
   "id": "97feb8a7",
   "metadata": {},
   "outputs": [],
   "source": [
    "setx TF_VAR_instancetype m5.large       # set a variable via environment variable (Windows)\n",
    "\n",
    "export TF_VAR_instancetype=\"t2.nano\"        # set a variable via environment variable (Linux)"
   ]
  },
  {
   "cell_type": "markdown",
   "id": "bf79aa23",
   "metadata": {},
   "source": [
    "## Terraform Get"
   ]
  },
  {
   "cell_type": "code",
   "execution_count": null,
   "id": "6d3affc7",
   "metadata": {},
   "outputs": [],
   "source": [
    "tf get      # install and update modules"
   ]
  },
  {
   "cell_type": "markdown",
   "id": "a8323333",
   "metadata": {},
   "source": [
    "## Terraform Plan"
   ]
  },
  {
   "cell_type": "code",
   "execution_count": null,
   "id": "e44c44a1",
   "metadata": {},
   "outputs": [],
   "source": [
    "tf plan     # pre-deployment plan"
   ]
  },
  {
   "cell_type": "code",
   "execution_count": null,
   "id": "f6645f5a",
   "metadata": {},
   "outputs": [],
   "source": [
    "tf plan -out=newplan    # save the plan to a file"
   ]
  },
  {
   "cell_type": "code",
   "execution_count": null,
   "id": "2becfa33",
   "metadata": {},
   "outputs": [],
   "source": [
    "tf plan -var=\"instancetype=t2.small\"        # explicitly define variable value"
   ]
  },
  {
   "cell_type": "code",
   "execution_count": null,
   "id": "e1b92985",
   "metadata": {},
   "outputs": [],
   "source": [
    "tf plan -var-file=\"custom.tfvars\"       # use custom tfvars file name"
   ]
  },
  {
   "cell_type": "code",
   "execution_count": null,
   "id": "2820eb4a",
   "metadata": {},
   "outputs": [],
   "source": [
    "tf plan -target aws_security_group.sg_allow_ssh     # detect changes in a specific resource"
   ]
  },
  {
   "cell_type": "code",
   "execution_count": null,
   "id": "38c5e11d",
   "metadata": {},
   "outputs": [],
   "source": [
    "tf plan -refresh=false      # skip the refresh of all resources in the configuration"
   ]
  },
  {
   "cell_type": "code",
   "execution_count": null,
   "id": "f64e214d",
   "metadata": {},
   "outputs": [],
   "source": [
    "tf plan -destroy        # plan a destroy without committing"
   ]
  },
  {
   "cell_type": "markdown",
   "id": "f99cca0f",
   "metadata": {},
   "source": [
    "## Terraform Apply"
   ]
  },
  {
   "cell_type": "code",
   "execution_count": null,
   "id": "7b7ed508",
   "metadata": {},
   "outputs": [],
   "source": [
    "tf apply    # prompt before creating resources described in tf"
   ]
  },
  {
   "cell_type": "code",
   "execution_count": null,
   "id": "342e959c",
   "metadata": {},
   "outputs": [],
   "source": [
    "tf apply --auto-approve     # create resources without prompt"
   ]
  },
  {
   "cell_type": "code",
   "execution_count": null,
   "id": "27f9699c",
   "metadata": {},
   "outputs": [],
   "source": [
    "tf apply \"newplan\"      # apply plan from plan file"
   ]
  },
  {
   "cell_type": "markdown",
   "id": "763455fa",
   "metadata": {},
   "source": [
    "## Terraform Destroy"
   ]
  },
  {
   "cell_type": "code",
   "execution_count": null,
   "id": "809291bb",
   "metadata": {},
   "outputs": [],
   "source": [
    "tf destroy      # destroy all"
   ]
  },
  {
   "cell_type": "code",
   "execution_count": null,
   "id": "7e982497",
   "metadata": {},
   "outputs": [],
   "source": [
    "tf destroy -target aws_instace.my_instance      # only destroy specific resource"
   ]
  },
  {
   "cell_type": "markdown",
   "id": "91dee16a",
   "metadata": {},
   "source": [
    "## Terraform Taint"
   ]
  },
  {
   "cell_type": "code",
   "execution_count": null,
   "id": "f9ce5869",
   "metadata": {},
   "outputs": [],
   "source": [
    "tf taint aws_instance.myec2     # mark ec2 instance to destroy and recreate on next apply"
   ]
  },
  {
   "cell_type": "markdown",
   "id": "ba6d5c44",
   "metadata": {},
   "source": [
    "## Terraform State"
   ]
  },
  {
   "cell_type": "code",
   "execution_count": null,
   "id": "d96c1364",
   "metadata": {},
   "outputs": [],
   "source": [
    "tf state show aws_eip.myeip    # inspect the state of an elastic ip resource"
   ]
  },
  {
   "cell_type": "code",
   "execution_count": null,
   "id": "da19a088",
   "metadata": {},
   "outputs": [],
   "source": [
    "tf state list   # list the resources in the state file"
   ]
  },
  {
   "cell_type": "code",
   "execution_count": null,
   "id": "a315a489",
   "metadata": {},
   "outputs": [],
   "source": [
    "tf state refresh      # refresh the current state"
   ]
  },
  {
   "cell_type": "code",
   "execution_count": null,
   "id": "e53ef97e",
   "metadata": {},
   "outputs": [],
   "source": [
    "tf state mv aws_instance.my_webapp aws_instance.my_ec2      # move ec2 instance within state without destroying and recreating"
   ]
  },
  {
   "cell_type": "code",
   "execution_count": null,
   "id": "aca52eb1",
   "metadata": {},
   "outputs": [],
   "source": [
    "tf state pull     # manually download and output the remote state"
   ]
  },
  {
   "cell_type": "code",
   "execution_count": null,
   "id": "1288bb3b",
   "metadata": {},
   "outputs": [],
   "source": [
    "tf state push     # manually upload a local state file to remote loc"
   ]
  },
  {
   "cell_type": "code",
   "execution_count": null,
   "id": "a44664c3",
   "metadata": {},
   "outputs": [],
   "source": [
    "tf state rm aws_instance.my_ec2      # removes ec2 instance from state (tf no longer aware)"
   ]
  },
  {
   "cell_type": "markdown",
   "id": "65e4dc37",
   "metadata": {},
   "source": [
    "## Terraform Graph"
   ]
  },
  {
   "cell_type": "code",
   "execution_count": null,
   "id": "4eecc00e",
   "metadata": {},
   "outputs": [],
   "source": [
    "tf graph    # visual dependency graph"
   ]
  },
  {
   "cell_type": "markdown",
   "id": "8ee9fffb",
   "metadata": {},
   "source": [
    "## Terraform Import"
   ]
  },
  {
   "cell_type": "code",
   "execution_count": null,
   "id": "f4b1223d",
   "metadata": {},
   "outputs": [],
   "source": [
    "tf import azurerm_storage.account.storage_account       # import the azure storage account specified in tf"
   ]
  },
  {
   "cell_type": "code",
   "execution_count": null,
   "id": "5481b9c2",
   "metadata": {},
   "outputs": [],
   "source": [
    "tf import aws_instance.myec2 i-041886ebb7e97bd20        # import ec2 instance with instance ID"
   ]
  },
  {
   "cell_type": "code",
   "execution_count": null,
   "id": "070bdd0d",
   "metadata": {},
   "outputs": [],
   "source": [
    "tf import module.vm.azurerm_linux_virtual_machine vm1   # import azure vm named \"vm1\" into module \"vm\""
   ]
  },
  {
   "cell_type": "markdown",
   "id": "c5a7264c",
   "metadata": {},
   "source": [
    "## Terraform Output"
   ]
  },
  {
   "cell_type": "code",
   "execution_count": null,
   "id": "078abad7",
   "metadata": {},
   "outputs": [],
   "source": [
    "tf output iam_arm       # output the value iam_arn specified within the output configuration"
   ]
  },
  {
   "cell_type": "markdown",
   "id": "e59d58e1",
   "metadata": {},
   "source": [
    "## HEREDOC"
   ]
  },
  {
   "cell_type": "code",
   "execution_count": null,
   "id": "44c4fcc6",
   "metadata": {},
   "outputs": [],
   "source": [
    "# input stream literal and redirect to command\n",
    "# insert script from source for azure vm extension\n",
    "\n",
    "extension {\n",
    "    name                 = \"${var.server_name}-extension\"\n",
    "    publisher            = \"Microsoft.Compute\"\n",
    "    type                 = \"CustomScriptExtension\"\n",
    "    type_handler_version = \"1.10\"\n",
    "\n",
    "    settings = <<SETTINGS\n",
    "    {\n",
    "        \"fileUris\" : [\"https://raw.githubusercontent.com/eltimmo/learning/master/azureInstallWebServer.ps1\"],\n",
    "        \"commandToExecute\" : \"start powershell -ExecutionPolicy Unrestricted -File azureInstallWebServer.ps1\"\n",
    "    }\n",
    "    SETTINGS\n",
    "  }"
   ]
  },
  {
   "cell_type": "markdown",
   "id": "a84f1b7f",
   "metadata": {},
   "source": [
    "## Count and Count Index"
   ]
  },
  {
   "cell_type": "code",
   "execution_count": null,
   "id": "2d778295",
   "metadata": {},
   "outputs": [],
   "source": [
    "/*\n",
    "if the environment variable is equal to \"prod\"\n",
    "then create 0(none), else create 1\n",
    "*/\n",
    "count = var.environment == \"production\" ? 0 : 1\n",
    "\n",
    "/*\n",
    "if the environment variable is equal to \"prod\"\n",
    "then set allocation method to \"static\", else set to \"Dynamic\"\n",
    "*/\n",
    "allocation_method = var.environment == \"prod\" ? \"static\" : \"Dynamic\""
   ]
  },
  {
   "cell_type": "code",
   "execution_count": null,
   "id": "201bd27a",
   "metadata": {},
   "outputs": [],
   "source": [
    "# main.tf\n",
    "\n",
    "# create 5 ec2 instances\n",
    "resource \"aws_instance\" \"instance_one\" {\n",
    "    ami = \"ami082c5a44755e0e6f\"\n",
    "    instance_type = \"t2.micro\"\n",
    "    count = 5\n",
    "}"
   ]
  },
  {
   "cell_type": "code",
   "execution_count": null,
   "id": "17a2577a",
   "metadata": {},
   "outputs": [],
   "source": [
    "# main.tf\n",
    "\n",
    "# create 5 users, appending the count index (0-4) for each\n",
    "resource \"aws_iam_user\" \"iam_user\" {\n",
    "    name = \"ec2user.${count.index}\"\n",
    "    count = 5\n",
    "    path = \"/system/\"\n",
    "}"
   ]
  },
  {
   "cell_type": "code",
   "execution_count": null,
   "id": "40c992af",
   "metadata": {},
   "outputs": [],
   "source": [
    "# main.tf\n",
    "\n",
    "# iterate through the index of variable names\n",
    "variable \"ec2_names\" {\n",
    "    type = list\n",
    "    default = [\"dev-ec2user\", \"stage-ec2user\", \"prod-ec2user\"]\n",
    "}\n",
    "\n",
    "resource \"aws_iam_user\" \"iam_user\" {\n",
    "    name = var.ec2_names[count.index]\n",
    "    count = 3\n",
    "    path = \"/system/\"\n",
    "}"
   ]
  },
  {
   "cell_type": "code",
   "execution_count": null,
   "id": "76b312da",
   "metadata": {},
   "outputs": [],
   "source": [
    "# main.tf\n",
    "\n",
    "# create a dev ec2 instance or prod ec2 instance\n",
    "variable \"dev_env\" {}\n",
    "\n",
    "resource \"aws_instance\" \"instance_one\" {\n",
    "    ami = \"ami082c5a44755e0e6f\"\n",
    "    instance_type = \"t2.micro\"\n",
    "    count = var.dev_env == true ? 1 : 0\n",
    "}\n",
    "\n",
    "resource \"aws_instance\" \"instance_one\" {\n",
    "    ami = \"ami082c5a44755e0e6f\"\n",
    "    instance_type = \"t2.large\"\n",
    "    count = var.dev_env == false ? 1: 0\n",
    "}"
   ]
  },
  {
   "cell_type": "markdown",
   "id": "6939bbff",
   "metadata": {},
   "source": [
    "## Multiple Resources with Multiple Regions/Accounts"
   ]
  },
  {
   "cell_type": "code",
   "execution_count": null,
   "id": "74758c19",
   "metadata": {},
   "outputs": [],
   "source": [
    "# main.tf\n",
    "\n",
    "# use alias for multiple providers blocks\n",
    "provider \"aws\" {\n",
    "  region     = \"us-east-1\"\n",
    "  version    = \">=2.8\"\n",
    "}\n",
    "\n",
    "provider \"aws\" {\n",
    "  alias      =  \"mumbai\"\n",
    "  region = \"us-east-1\"\n",
    "}\n",
    "\n",
    "resource \"aws_eip\" \"myeip\" {\n",
    "  vpc = \"true\"\n",
    "}\n",
    "\n",
    "resource \"aws_eip\" \"myeip01\" {\n",
    "  vpc = \"true\"\n",
    "  provider = aws.mumbai\n",
    "}"
   ]
  },
  {
   "cell_type": "code",
   "execution_count": null,
   "id": "9be810b0",
   "metadata": {},
   "outputs": [],
   "source": [
    "# main.tf\n",
    "\n",
    "# use different creds from ~/.aws/credentials\n",
    "provider \"aws\" {\n",
    "  region     = \"us-east-1\"\n",
    "  version    = \">=2.8\"\n",
    "}\n",
    "\n",
    "provider \"aws\" {\n",
    "  alias      = \"tfadmin2cred\"\n",
    "  region = \"us-east-1\"\n",
    "  profile    = \"tfadmin2\"\n",
    "}\n",
    "\n",
    "resource \"aws_eip\" \"myeip\" {\n",
    "  vpc = \"true\"\n",
    "}\n",
    "\n",
    "resource \"aws_eip\" \"myeip01\" {\n",
    "  vpc = \"true\"\n",
    "  provider = aws.tfadmin2cred\n",
    "}"
   ]
  },
  {
   "cell_type": "markdown",
   "id": "8bc8fb47",
   "metadata": {},
   "source": [
    "## Logging"
   ]
  },
  {
   "cell_type": "code",
   "execution_count": null,
   "id": "67de7d22",
   "metadata": {},
   "outputs": [],
   "source": [
    "export TF_LOG=TRACE     # enable trace logging"
   ]
  },
  {
   "cell_type": "code",
   "execution_count": null,
   "id": "5e26e88f",
   "metadata": {},
   "outputs": [],
   "source": [
    "export TF_LOG_PATH=\"terraform.txt\"      # set log path to output to a file"
   ]
  },
  {
   "cell_type": "markdown",
   "id": "1650ddf9",
   "metadata": {},
   "source": [
    "## Terraform Block"
   ]
  },
  {
   "cell_type": "code",
   "execution_count": null,
   "id": "71076edf",
   "metadata": {},
   "outputs": [],
   "source": [
    "# main.tf\n",
    "\n",
    "# must use terraform v0.11 or earlier\n",
    "# must use aws provider in the v2.0 range\n",
    "terraform {\n",
    "  required_version = \"< 0.11\"\n",
    "  required_providers {\n",
    "    aws = \"~> 2.0\"\n",
    "  }\n",
    "}\n",
    "\n",
    "provider \"aws\" {\n",
    "  region = \"us-east-1\"\n",
    "}\n",
    "\n",
    "resource \"aws_instance\" \"myec2\" {\n",
    "   ami = \"ami-0b1e534a4ff9019e0\"\n",
    "   instance_type = \"t2.micro\"\n",
    "}"
   ]
  },
  {
   "cell_type": "markdown",
   "id": "b085d026",
   "metadata": {},
   "source": [
    "## Comments"
   ]
  },
  {
   "cell_type": "code",
   "execution_count": null,
   "id": "b10a5333",
   "metadata": {},
   "outputs": [],
   "source": [
    "/*\n",
    "resource \"digitalocean_droplet\" \"my_droplet\" {\n",
    "    image = \"ubuntu-18-04-x64\"\n",
    "    name = \"web-1\"\n",
    "    region = \"nyc1\"\n",
    "    size = \"s-1vcpu-1gb\"\n",
    "}\n",
    "*/"
   ]
  },
  {
   "cell_type": "markdown",
   "id": "459c2e1c",
   "metadata": {},
   "source": [
    "## Data Types"
   ]
  },
  {
   "cell_type": "code",
   "execution_count": null,
   "id": "d5ba2733",
   "metadata": {},
   "outputs": [],
   "source": [
    "# variables.tf\n",
    "variable \"data-type-example\" {\n",
    "    type = string\n",
    "    type = list     # e.g. [\"us-east-1a\", \"us-west-2b\"]\n",
    "    type = map      # e.g. {name = \"Chad\", age = 34}\n",
    "    type = number\n",
    "}"
   ]
  },
  {
   "cell_type": "markdown",
   "id": "f1ecf07a",
   "metadata": {},
   "source": [
    "## Fetch Data from Map"
   ]
  },
  {
   "cell_type": "code",
   "execution_count": null,
   "id": "bb521e02",
   "metadata": {},
   "outputs": [],
   "source": [
    "# main.tf\n",
    "resource \"aws_instance\" \"myec2\" {\n",
    "    ami = \"ami082c5a44755e0e6f\"\n",
    "    instance_type = var.types[\"us-west-2\"]\n",
    "}\n",
    "\n",
    "variable \"types\" {\n",
    "    type = map\n",
    "    default = {\n",
    "        us-east-1 = \"t2.micro\"\n",
    "        us-west-2 = \"t2.nano\"\n",
    "        ap-south-1 = \"t2.small\"\n",
    "    }\n",
    "}"
   ]
  },
  {
   "cell_type": "markdown",
   "id": "23fb6c87",
   "metadata": {},
   "source": [
    "## Fetch Data from List"
   ]
  },
  {
   "cell_type": "code",
   "execution_count": null,
   "id": "895fb991",
   "metadata": {},
   "outputs": [],
   "source": [
    "# main.tf\n",
    "resource \"aws_instance\" \"myec2\" {\n",
    "    ami = \"ami082c5a44755e0e6f\"\n",
    "    instance_type = var.types[0]\n",
    "}\n",
    "\n",
    "variable \"types\" {\n",
    "    type = list\n",
    "    default = [\"m5.large\",\"m5.xlarge\",\"t2.medium\"]\n",
    "}"
   ]
  },
  {
   "cell_type": "markdown",
   "id": "f2d2cb68",
   "metadata": {},
   "source": [
    "## Locals"
   ]
  },
  {
   "cell_type": "code",
   "execution_count": null,
   "id": "fe1a02ae",
   "metadata": {},
   "outputs": [],
   "source": [
    "# main.tf\n",
    "\n",
    "locals {\n",
    "  common_tags = {\n",
    "    Owner = \"DevOps Team\"\n",
    "    service = \"backend\"\n",
    "  }\n",
    "}\n",
    "resource \"aws_instance\" \"app-dev\" {\n",
    "   ami = \"ami-5b41123e\"\n",
    "   instance_type = \"t2.micro\"\n",
    "   tags = local.common_tags\n",
    "}\n",
    "\n",
    "resource \"aws_ebs_volume\" \"db_ebs\" {\n",
    "  availability_zone = \"us-west-2a\"\n",
    "  size              = 8\n",
    "  tags = local.common_tags\n",
    "}"
   ]
  },
  {
   "cell_type": "code",
   "execution_count": null,
   "id": "3d981cf6",
   "metadata": {},
   "outputs": [],
   "source": [
    "# main.tf\n",
    "\n",
    "variable \"name\" {}\n",
    "\n",
    "variable \"default\" {}\n",
    "\n",
    "locals {\n",
    "    name_prefix = \"${var.name != \"\" ? var.name : var.default}\"\n",
    "}\n",
    "\n",
    "resource \"aws_instance\" \"app-dev\" {\n",
    "   ami = \"ami-5b41123e\"\n",
    "   instance_type = \"t2.micro\"\n",
    "   name = local.name_prefix\n",
    "}"
   ]
  },
  {
   "cell_type": "markdown",
   "id": "055ea45b",
   "metadata": {},
   "source": [
    "## Functions"
   ]
  },
  {
   "cell_type": "code",
   "execution_count": null,
   "id": "41d24cba",
   "metadata": {},
   "outputs": [],
   "source": [
    "# main.tf\n",
    "\n",
    "variable \"region\" {\n",
    "    default = \"us-east-1\"\n",
    "}\n",
    "\n",
    "variable \"ami\" {\n",
    "    type = map\n",
    "    default = {\n",
    "        \"us-east-1\" = \"ami-0323c3dd2da7fb37d\"\n",
    "        \"us-west-2\" = \"ami-0d6621c01e8c2de2c\"\n",
    "        \"ap-south-1\" = \"ami-0470e33cd681b2476\"\n",
    "    }\n",
    "}\n",
    "\n",
    "variable \"tags\" {\n",
    "    type = list\n",
    "    default = [\"firstec2\",\"secondec2\"]\n",
    "}\n",
    "\n",
    "# use the file function to use the public key from id_rsa.pub in the module path\n",
    "resource \"aws_key_pair\" \"loginkey\" {\n",
    "  key_name   = \"atingupta2005-terraform\"\n",
    "  public_key = file(\"~/.ssh/id_rsa.pub\")\n",
    "}\n",
    "\n",
    "# use the lookup function to insert ami ID\n",
    "# use the element function to interate through tags for each instance count\n",
    "resource \"aws_instance\" \"app-dev\" {\n",
    "   ami = lookup(var.ami,var.region)\n",
    "   instance_type = \"t2.micro\"\n",
    "   key_name = aws_key_pair.loginkey.key_name\n",
    "   count = 2\n",
    "\n",
    "   tags = {\n",
    "     Name = element(var.tags,count.index)\n",
    "   }\n",
    "}"
   ]
  },
  {
   "cell_type": "markdown",
   "id": "24c27eb3",
   "metadata": {},
   "source": [
    "## Data Sources"
   ]
  },
  {
   "cell_type": "code",
   "execution_count": null,
   "id": "4c7aa6e9",
   "metadata": {},
   "outputs": [],
   "source": [
    "# main.tf\n",
    "\n",
    "# retrieve the correct ami for the ap-southeast-1 region\n",
    "provider \"aws\" {\n",
    "  region = \"us-east-1\"\n",
    "}\n",
    "\n",
    "data \"aws_ami\" \"my_ami\" {\n",
    "  most_recent = true\n",
    "  owners = [\"amazon\"]\n",
    "\n",
    "\n",
    "  filter {\n",
    "    name   = \"name\"\n",
    "    values = [\"amzn2-ami-hvm*\"]\n",
    "  }\n",
    "}\n",
    "\n",
    "resource \"aws_instance\" \"instance-1\" {\n",
    "    ami = data.aws_ami.my_ami.id\n",
    "   instance_type = \"t2.micro\"\n",
    "}"
   ]
  },
  {
   "cell_type": "markdown",
   "id": "3d78f0c3",
   "metadata": {},
   "source": [
    "## Dynamic Block"
   ]
  },
  {
   "cell_type": "code",
   "execution_count": null,
   "id": "f9246846",
   "metadata": {},
   "outputs": [],
   "source": [
    "# main.tf\n",
    "\n",
    "# dynamically create multiple security group rules for each port\n",
    "# the iterator reassigns the element name\n",
    "variable \"sg_ports\" {\n",
    "  type        = list(number)\n",
    "  description = \"list of ingress ports\"\n",
    "  default     = [8200, 8201,8300, 9200, 9500]\n",
    "}\n",
    "\n",
    "resource \"aws_security_group\" \"dynamicsg\" {\n",
    "  name        = \"dynamic-sg\"\n",
    "  description = \"Ingress for Vault\"\n",
    "\n",
    "  dynamic \"ingress\" {\n",
    "    for_each = var.sg_ports\n",
    "    iterator = port\n",
    "    content {\n",
    "      from_port   = port.value\n",
    "      to_port     = port.value\n",
    "      protocol    = \"tcp\"\n",
    "      cidr_blocks = [\"0.0.0.0/0\"]\n",
    "    }\n",
    "  }\n",
    "\n",
    "  dynamic \"egress\" {\n",
    "    for_each = var.sg_ports\n",
    "    content {\n",
    "      from_port   = egress.value\n",
    "      to_port     = egress.value\n",
    "      protocol    = \"tcp\"\n",
    "      cidr_blocks = [\"0.0.0.0/0\"]\n",
    "    }\n",
    "  }\n",
    "}"
   ]
  },
  {
   "cell_type": "markdown",
   "id": "cdd750c4",
   "metadata": {},
   "source": [
    "## Splat Expression"
   ]
  },
  {
   "cell_type": "code",
   "execution_count": null,
   "id": "37bf8025",
   "metadata": {},
   "outputs": [],
   "source": [
    "# main.tf\n",
    "\n",
    "# output the ARN for all 3 users\n",
    "resource \"aws_iam_user\" \"ec2_user\" {\n",
    "  name = \"iamuser.${count.index}\"\n",
    "  count = 3\n",
    "  path = \"/system/\"\n",
    "}\n",
    "\n",
    "output \"arns\" {\n",
    "  value = aws_iam_user.ec2_user[*].arn\n",
    "}"
   ]
  },
  {
   "cell_type": "markdown",
   "id": "5edeed2d",
   "metadata": {},
   "source": [
    "## Provisioner"
   ]
  },
  {
   "cell_type": "code",
   "execution_count": null,
   "id": "47982594",
   "metadata": {},
   "outputs": [],
   "source": [
    "# main.tf\n",
    "\n",
    "# create ec2 instance and use remote-exec to ssh into the instance and install nginx\n",
    "resource \"aws_instance\" \"myec2\" {\n",
    "   ami = \"ami-5b41123e\"\n",
    "   instance_type = \"t2.micro\"\n",
    "   key_name = \"atingupta2005-terraform\"\n",
    "\n",
    "   provisioner \"remote-exec\" {\n",
    "     inline = [\n",
    "       \"sudo amazon-linux-extras install -y nginx1.12\",\n",
    "       \"sudo systemctl start nginx\"\n",
    "     ]\n",
    "\n",
    "   connection {\n",
    "     type = \"ssh\"\n",
    "     user = \"ec2-user\"\n",
    "     private_key = file(\"~/.ssh/id_rsa\")\n",
    "     host = self.public_ip\n",
    "   }\n",
    "   }\n",
    "}"
   ]
  },
  {
   "cell_type": "code",
   "execution_count": null,
   "id": "a236f594",
   "metadata": {},
   "outputs": [],
   "source": [
    "# main.tf\n",
    "\n",
    "# create ec2 instance and use local exec to copy private ip to a file\n",
    "resource \"aws_instance\" \"myec2\" {\n",
    "   ami = \"ami-5b41123e\"\n",
    "   instance_type = \"t2.micro\"\n",
    "\n",
    "   provisioner \"local-exec\" {\n",
    "    command = \"echo ${aws_instance.myec2.private_ip} >> private_ips.txt\"\n",
    "  }\n",
    "}"
   ]
  },
  {
   "cell_type": "code",
   "execution_count": null,
   "id": "abcee9e1",
   "metadata": {},
   "outputs": [],
   "source": [
    "# main.tf\n",
    "\n",
    "# create ec2 instance and use remote-exec to install nano via ssh\n",
    "# uninstall nano when tf destroy is run\n",
    "# if nano install fails, it marks resource as tainted\n",
    "resource \"aws_instance\" \"myec2\" {\n",
    "   ami = \"ami-0b1e534a4ff9019e0\"\n",
    "   instance_type = \"t2.micro\"\n",
    "   key_name = \"atingupta2005-terraform\"\n",
    "   vpc_security_group_ids  = [aws_security_group.allow_ssh.id]\n",
    "\n",
    "   provisioner \"remote-exec\" {\n",
    "     inline = [\n",
    "       \"sudo yum -y install nano\"\n",
    "     ]\n",
    "   }\n",
    "   provisioner \"remote-exec\" {\n",
    "       when    = destroy\n",
    "       inline = [\n",
    "         \"sudo yum -y remove nano\"\n",
    "       ]\n",
    "     }\n",
    "   connection {\n",
    "     type = \"ssh\"\n",
    "     user = \"ec2-user\"\n",
    "     private_key = file(\"~/.ssh/id_rsa\")\n",
    "     host = self.public_ip\n",
    "   }\n",
    "}"
   ]
  },
  {
   "cell_type": "code",
   "execution_count": null,
   "id": "cc6fac88",
   "metadata": {},
   "outputs": [],
   "source": [
    "# main.tf\n",
    "\n",
    "# create ec2 instance and use remote-exec to install nano via ssh\n",
    "# uninstall nano when tf destroy is run\n",
    "# if nano install fails, it will NOT mark the instance as tainted\n",
    "resource \"aws_instance\" \"myec2\" {\n",
    "   ami = \"ami-0b1e534a4ff9019e0\"\n",
    "   instance_type = \"t2.micro\"\n",
    "   key_name = \"atingupta2005-terraform\"\n",
    "   vpc_security_group_ids  = [aws_security_group.allow_ssh.id]\n",
    "\n",
    "   provisioner \"remote-exec\" {\n",
    "     on_failure = continue\n",
    "     inline = [\n",
    "       \"sudo yum -y install nano\"\n",
    "     ]\n",
    "   }\n",
    "   provisioner \"remote-exec\" {\n",
    "       when    = destroy\n",
    "       inline = [\n",
    "         \"sudo yum -y remove nano\"\n",
    "       ]\n",
    "     }\n",
    "   connection {\n",
    "     type = \"ssh\"\n",
    "     user = \"ec2-user\"\n",
    "     private_key = file(\"~/.ssh/id_rsa\")\n",
    "     host = self.public_ip\n",
    "   }\n",
    "}"
   ]
  },
  {
   "cell_type": "markdown",
   "id": "e8c295b4",
   "metadata": {},
   "source": [
    "## Terraform Modules"
   ]
  },
  {
   "cell_type": "code",
   "execution_count": null,
   "id": "9fb5dab3",
   "metadata": {},
   "outputs": [],
   "source": [
    "# myec2.tf\n",
    "module \"ec2module\" {\n",
    "    source = \"./modules/ec2\"\n",
    "}\n",
    "\n",
    "# ./modules/ec2/ec2.tf\n",
    "resource \"aws_instance\" \"myec2\" {\n",
    "    ami = \"ami-0b1e534a4ff9019e0\"\n",
    "    instance_type = \"t2.micro\"\n",
    "}"
   ]
  },
  {
   "cell_type": "code",
   "execution_count": null,
   "id": "c946aad1",
   "metadata": {},
   "outputs": [],
   "source": [
    "# myec2.tf\n",
    "module \"ec2module\" {\n",
    "    source = \"./modules/ec2\"\n",
    "    instance_type = \"m4.large\"\n",
    "}\n",
    "\n",
    "# ./modules/ec2/variables.tf\n",
    "variable \"instance_type\" {\n",
    "    default = \"t2.micro\"\n",
    "}\n",
    "\n",
    "# ./modules/ec2/ec2.tf\n",
    "resource \"aws_instance\" \"myec2\" {\n",
    "    ami = \"ami-0b1e534a4ff9019e0\"\n",
    "    instance_type = var.instance_type\n",
    "}"
   ]
  },
  {
   "cell_type": "markdown",
   "id": "fa04ef74",
   "metadata": {},
   "source": [
    "## Module Sources"
   ]
  },
  {
   "cell_type": "code",
   "execution_count": null,
   "id": "f1815c8f",
   "metadata": {},
   "outputs": [],
   "source": [
    "# main.tf\n",
    "\n",
    "# module source is a generic git repo\n",
    "module \"my_module\" {\n",
    "    source = \"git::https://github.com/chadmcrowell/tmp-repo.git\"\n",
    "}"
   ]
  },
  {
   "cell_type": "code",
   "execution_count": null,
   "id": "99af380f",
   "metadata": {},
   "outputs": [],
   "source": [
    "# main.tf\n",
    "\n",
    "# module source is a github repo\n",
    "module \"my_module\" {\n",
    "    source = \"github.com/chadmcrowell/tmp-repo\"\n",
    "}"
   ]
  },
  {
   "cell_type": "code",
   "execution_count": null,
   "id": "70878073",
   "metadata": {},
   "outputs": [],
   "source": [
    "# main.tf\n",
    "\n",
    "# module source is a specific branch of a generaic github repo\n",
    "module \"my_module\" {\n",
    "    source = \"git::https://github.com/chadmcrowell/tmp-repo.git?ref=develop\"\n",
    "}"
   ]
  },
  {
   "cell_type": "markdown",
   "id": "1285cc95",
   "metadata": {},
   "source": [
    "## Registry Module"
   ]
  },
  {
   "cell_type": "code",
   "execution_count": null,
   "id": "a6b26d66",
   "metadata": {},
   "outputs": [],
   "source": [
    "module \"ec2_cluster\" {\n",
    "  source                 = \"terraform-aws-modules/ec2-instance/aws\"\n",
    "  version                = \"~> 2.0\"\n",
    "\n",
    "  name                   = \"my-cluster\"\n",
    "  instance_count         = 1\n",
    "\n",
    "  ami                    = \"ami-0d6621c01e8c2de2c\"\n",
    "  instance_type          = \"t2.micro\"\n",
    "  subnet_id              = \"subnet-4dbfb206\"\n",
    "\n",
    "  tags = {\n",
    "    Terraform   = \"true\"\n",
    "    Environment = \"dev\"\n",
    "  }\n",
    "}"
   ]
  },
  {
   "cell_type": "markdown",
   "id": "c060c55a",
   "metadata": {},
   "source": [
    "## Terraform State - AWS Backend"
   ]
  },
  {
   "cell_type": "code",
   "execution_count": null,
   "id": "cdeaff05",
   "metadata": {},
   "outputs": [],
   "source": [
    "# backend.tf\n",
    "\n",
    "# store the terraform.tfstate file in an s3 bucket\n",
    "terraform {\n",
    "    backend \"s3\" {\n",
    "        bucket = \"my-remote-state-s3-bucket\"\n",
    "        key    = \"terraform.tfstate\"\n",
    "        region = \"us-east-1\"\n",
    "    }\n",
    "}"
   ]
  },
  {
   "cell_type": "code",
   "execution_count": null,
   "id": "1cd20a9c",
   "metadata": {},
   "outputs": [],
   "source": [
    "# backend.tf\n",
    "\n",
    "# store the terraform.tfstate file in an s3 bucket with STATE LOCK enabled\n",
    "terraform {\n",
    "    backend \"s3\" {\n",
    "        bucket         = \"my-remote-state-s3-bucket\"\n",
    "        key            = \"terraform.tfstate\"\n",
    "        region         = \"us-east-1\"\n",
    "        dynamodb_table = \"s3-state-lock\"\n",
    "    }\n",
    "}"
   ]
  },
  {
   "cell_type": "markdown",
   "id": "2d0f7811",
   "metadata": {},
   "source": [
    "[backend types](https://www.terraform.io/docs/backends/types/)\n",
    "\n",
    "## Assume Role in AWS"
   ]
  },
  {
   "cell_type": "code",
   "execution_count": null,
   "id": "54504c9b",
   "metadata": {},
   "outputs": [],
   "source": [
    "provider \"aws\" {\n",
    "    region = \"us-east-1\"\n",
    "    assume_role {\n",
    "        role_arn = \"arn:aws:iam::871285060102:role/test-sts\"\n",
    "        session_name = \"sts-demo\"\n",
    "    }\n",
    "}"
   ]
  },
  {
   "cell_type": "markdown",
   "id": "6d8a8091",
   "metadata": {},
   "source": [
    "## Sensitive Parameter"
   ]
  },
  {
   "cell_type": "code",
   "execution_count": null,
   "id": "6f5ae6fe",
   "metadata": {},
   "outputs": [],
   "source": [
    "locals {\n",
    "    db_password = {\n",
    "        admin = \"password\"\n",
    "    }\n",
    "}\n",
    "\n",
    "output \"db_password\" {\n",
    "    value     = local.db_password\n",
    "    sensitive = true\n",
    "}"
   ]
  },
  {
   "cell_type": "markdown",
   "id": "4787a1ef",
   "metadata": {},
   "source": [
    "## Sentinel Policy\n",
    "[sentinel - docs](https://docs.hashicorp.com/sentinel/terraform/)"
   ]
  },
  {
   "cell_type": "code",
   "execution_count": null,
   "id": "92229086",
   "metadata": {},
   "outputs": [],
   "source": [
    "# policy in terraform cloud\n",
    "\n",
    "import \"tfplan\"\n",
    "\n",
    "main = rule {\n",
    "  all tfplan.resources.aws_instance as _, instances {\n",
    "    all instances as _, r {\n",
    "      (length(r.applied.tags) else 0) > 0\n",
    "    }\n",
    "  }\n",
    "}"
   ]
  },
  {
   "cell_type": "markdown",
   "id": "7c83d686",
   "metadata": {},
   "source": [
    "## Remote Backend\n",
    "* Apply not allowed for workspaces with a VCS connection"
   ]
  },
  {
   "cell_type": "code",
   "execution_count": null,
   "id": "1cd084be",
   "metadata": {},
   "outputs": [],
   "source": [
    "# main.tf\n",
    "terraform {\n",
    "    required_version = \"~> 0.12.0\"\n",
    "\n",
    "    backend \"remote\" {}\n",
    "}\n",
    "\n",
    "resource \"aws_iam_user\" \"ec2user\" {\n",
    "    name = \"ec2user\"\n",
    "    path = \"/system\"\n",
    "}"
   ]
  },
  {
   "cell_type": "code",
   "execution_count": null,
   "id": "93985fb5",
   "metadata": {},
   "outputs": [],
   "source": [
    "# backend.hcl\n",
    "\n",
    "workspaces { name = \"my-repository-name\" }\n",
    "hostname     = \"app.terraform.io\"\n",
    "organization = \"my-organization-name\""
   ]
  },
  {
   "cell_type": "markdown",
   "id": "22e524d1",
   "metadata": {},
   "source": [
    "## 3rd Party Providers\n",
    "Operating System | User plugins directory  \n",
    "------- | ----------------  \n",
    "Windows | %APPDATA%\\terraform.d\\plugins  \n",
    "All other OS | ~/.terraform.d/plugins  \n",
    "\n",
    "## .gitignore\n",
    "Files to Ignore | Description\n",
    "------- | ----------------  \n",
    "`.terraform` | This file created when `tf init` is run  \n",
    "`terraform.tfvars` | contains all of your secrets\n",
    "`terraform.tfstate` | should be stored remotely\n",
    "`crash.log` | logs are stored here if tf crashes"
   ]
  }
 ],
 "metadata": {},
 "nbformat": 4,
 "nbformat_minor": 5
}
