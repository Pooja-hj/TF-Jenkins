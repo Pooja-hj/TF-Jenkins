{
 "cells": [
  {
   "cell_type": "markdown",
   "id": "0baba972",
   "metadata": {},
   "source": [
    "- Connect to cloud VM using browser:\n",
    "  - http://vmubuntu-terraform-jenkins-aws.eastus.cloudapp.azure.com:4200\n",
    "\n",
    "\n",
    "- Install AWS CLI"
   ]
  },
  {
   "cell_type": "code",
   "execution_count": null,
   "id": "367aa3c2",
   "metadata": {},
   "outputs": [],
   "source": [
    "sudo snap install aws-cli --classic\n",
    "aws configure\n",
    "#AWS Access Key ID [None]: <>\n",
    "#AWS Secret Access Key [None]: <>\n",
    "#Default region name [None]: us-east-2\n",
    "#Default output format [None]: table/json/yaml"
   ]
  },
  {
   "cell_type": "code",
   "execution_count": null,
   "id": "57b68f47",
   "metadata": {},
   "outputs": [],
   "source": [
    "aws sts get-caller-identity"
   ]
  },
  {
   "cell_type": "markdown",
   "id": "332cb176",
   "metadata": {},
   "source": [
    "- Install Python and Jupyter Notebook"
   ]
  },
  {
   "cell_type": "code",
   "execution_count": null,
   "id": "2be3659c",
   "metadata": {},
   "outputs": [],
   "source": [
    "virtualenv ~/venv\n",
    "source ~/venv/bin/activate\n",
    "pip install jupyter\n",
    "pip install bash_kernel\n",
    "python -m bash_kernel.install"
   ]
  },
  {
   "cell_type": "markdown",
   "id": "1fd91304",
   "metadata": {},
   "source": [
    "- Clone Git Repo"
   ]
  },
  {
   "cell_type": "code",
   "execution_count": null,
   "id": "7511cc4f",
   "metadata": {},
   "outputs": [],
   "source": [
    "cd\n",
    "git clone https://github.com/atingupta2005/Training-Advanced-Devops-AWS-Terraform-Jenkins\n",
    "cd Training-Advanced-Devops-AWS-Terraform-Jenkins/\n",
    "git pull"
   ]
  },
  {
   "cell_type": "markdown",
   "id": "8f940164",
   "metadata": {},
   "source": [
    "- Change Port number in below command and then run it."
   ]
  },
  {
   "cell_type": "code",
   "execution_count": null,
   "id": "117c5c30",
   "metadata": {},
   "outputs": [],
   "source": [
    "cd\n",
    "jupyter notebook --ip 0.0.0.0 --port 88?? --MultiKernelManager.default_kernel_name=bash"
   ]
  }
 ],
 "metadata": {},
 "nbformat": 4,
 "nbformat_minor": 5
}
